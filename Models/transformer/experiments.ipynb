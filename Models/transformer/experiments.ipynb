{
 "cells": [
  {
   "cell_type": "code",
   "execution_count": 141,
   "metadata": {
    "collapsed": true
   },
   "outputs": [
    {
     "name": "stderr",
     "output_type": "stream",
     "text": [
      "[nltk_data] Downloading package punkt to\n",
      "[nltk_data]     C:\\Users\\99mor\\AppData\\Roaming\\nltk_data...\n",
      "[nltk_data]   Package punkt is already up-to-date!\n"
     ]
    }
   ],
   "source": [
    "import tensorflow as tf\n",
    "import pandas as pd\n",
    "from sklearn.utils import shuffle\n",
    "import transformers\n",
    "import NERDA\n",
    "import nltk\n",
    "\n",
    "nltk.download('punkt')\n",
    "from nltk import word_tokenize\n"
   ]
  },
  {
   "cell_type": "code",
   "execution_count": 142,
   "outputs": [
    {
     "name": "stderr",
     "output_type": "stream",
     "text": [
      "C:\\Users\\99mor\\.virtualenvs\\MRP1_Models\\lib\\site-packages\\IPython\\core\\interactiveshell.py:3457: DtypeWarning: Columns (0) have mixed types.Specify dtype option on import or set low_memory=False.\n",
      "  exec(code_obj, self.user_global_ns, self.user_ns)\n"
     ]
    }
   ],
   "source": [
    "data_layer1 = pd.read_csv('data_layer1.csv')\n",
    "data_layer2 = pd.read_csv('data_layer2.csv')\n",
    "\n",
    "def exclude_low_freq_classes(data, threshold=10):\n",
    "    df = data.copy()\n",
    "\n",
    "    freq_table = df[\"pseudoLabels\"].value_counts()\n",
    "    low_freq_classes = []\n",
    "    for i in range(len(freq_table)):\n",
    "        if freq_table[i] < threshold:\n",
    "            low_freq_classes.append(freq_table.index[i])\n",
    "\n",
    "    for i in range(len(low_freq_classes)):\n",
    "        df = df[df[\"pseudoLabels\"] != low_freq_classes[i]]\n",
    "\n",
    "    df.reset_index(drop=True, inplace=True)\n",
    "\n",
    "    return df\n",
    "\n",
    "data_layer1 = exclude_low_freq_classes(data_layer1, threshold=20)\n",
    "data_layer2 = exclude_low_freq_classes(data_layer2, threshold=20)"
   ],
   "metadata": {
    "collapsed": false,
    "pycharm": {
     "name": "#%%\n"
    }
   }
  },
  {
   "cell_type": "code",
   "execution_count": 143,
   "outputs": [
    {
     "name": "stdout",
     "output_type": "stream",
     "text": [
      "{'no skill': 0, 'business administration': 1, 'education, sales and marketing': 2, 'engineering, construction and transport': 3, 'information technology': 4, 'health and social care': 5, 'science and research': 6, 'Communication': 7, 'Time management': 8, 'Decision making': 9, 'Optimism': 10, 'Coaching': 11, 'Initiative': 12, 'Social skills': 13, 'Creativity': 14, 'Leadership': 15, 'Self-confidence': 16, 'Enthusiasm': 17, 'Teamwork': 18, 'Goal': 19, 'Critical thinking': 20, 'Flexibility': 21, 'Integrity': 22, 'Hospitality': 23, 'Conflict management': 24, 'Ethic': 25, 'Negotiation': 26, 'Adaptive': 27, 'Active listening': 28, 'Presentation': 29, 'Problem solving': 30, 'Emotional intelligence': 31, 'Argumentation': 32, 'Persuasion': 33, 'Mentoring': 34, 'Writing': 35, 'Decision': 36, 'Accountability': 37, 'Detail': 38, 'Strategic thinking': 39}\n",
      "{'no skill': 0, 'finance': 1, 'marketing': 2, 'construction, maintenance and transport': 3, 'software engineering': 4, 'logistics': 5, 'design': 6, 'administration and law': 7, 'pr and journalism': 8, 'healthcare administration': 9, 'civil engineering and design': 10, 'primary care': 11, 'education, languages and art': 12, 'sales': 13, 'mechanical and electrical engineering': 14, 'accounting': 15, 'it systems and support': 16, 'caregiving and rehabilitation': 17, 'business intelligence and it systems design': 18, 'cardiovascular and respiratory healthcare': 19, 'management and hr': 20, 'physics, math, tomography and structural biology': 21, 'energy and environmental management': 22, 'it security': 23, 'research methods': 24, 'Communication': 25, 'Time management': 26, 'Decision making': 27, 'Optimism': 28, 'Initiative': 29, 'Coaching': 30, 'Social skills': 31, 'Creativity': 32, 'Enthusiasm': 33, 'Teamwork': 34, 'Goal': 35, 'Critical thinking': 36, 'Flexibility': 37, 'Hospitality': 38, 'Conflict management': 39, 'Ethic': 40, 'Adaptive': 41, 'Leadership': 42, 'Active listening': 43, 'Self-confidence': 44, 'Presentation': 45, 'Problem solving': 46, 'Integrity': 47, 'Negotiation': 48, 'Emotional intelligence': 49, 'Writing': 50, 'Decision': 51, 'Accountability': 52, 'Detail': 53, 'Strategic thinking': 54, 'Argumentation': 55}\n"
     ]
    }
   ],
   "source": [
    "def getuniquedomains(df, layer):\n",
    "    unique_domains = df[layer].unique()\n",
    "    unique_domains_dict = dict()\n",
    "    for i, domain in enumerate(unique_domains):\n",
    "        unique_domains_dict[domain] = i\n",
    "    return unique_domains_dict\n",
    "\n",
    "data_layer1_ddict = getuniquedomains(data_layer1, 'pseudoLabels')\n",
    "data_layer2_ddict = getuniquedomains(data_layer2, 'pseudoLabels')\n",
    "\n",
    "data_layer1['pseudoLabels'] = data_layer1['pseudoLabels'].map(lambda x: data_layer1_ddict[x])\n",
    "data_layer2['pseudoLabels'] = data_layer2['pseudoLabels'].map(lambda x: data_layer2_ddict[x])\n",
    "\n",
    "print(data_layer1_ddict)\n",
    "print(data_layer2_ddict)"
   ],
   "metadata": {
    "collapsed": false,
    "pycharm": {
     "name": "#%%\n"
    }
   }
  },
  {
   "cell_type": "code",
   "execution_count": 144,
   "outputs": [
    {
     "data": {
      "text/plain": "             token_0        token_1 token_2 token_3 token_4  \\\n0           social:0       medium:0  tool:0                   \n1         economic:1                                          \n2           online:2    marketing:2                           \n3      advertising:2                                          \n4            clean:3                                          \n...              ...            ...     ...     ...     ...   \n29707    marketing:2                                          \n29708     software:4  development:4                           \n29709       online:2  advertising:2                           \n29710  advertising:2                                          \n29711  advertising:2                                          \n\n                                         origin_sentence  \\\n0      this includes educating and recommending socia...   \n1      depending on the background and professional e...   \n2      our executive team possesses decades of online...   \n3      understand mechanics and intricacies of advert...   \n4      this may include cleaning washing and dressing...   \n...                                                  ...   \n29707  work with the marketing team to assist in the ...   \n29708         experience with agile software development   \n29709     strong working knowledge of online advertising   \n29710                experience in the advertising space   \n29711                 experience with native advertising   \n\n                                          left_context       candidate_skill  \\\n0                            include educate recommend    social medium tool   \n1      attribution benchmarke analysis advanced degree              economic   \n2                        executive team possess decade      online marketing   \n3                        understand mechanic intricacy           advertising   \n4                                              include                 clean   \n...                                                ...                   ...   \n29707        marketing team assist development product             marketing   \n29708                                 experience agile  software development   \n29709                            strong work knowledge    online advertising   \n29710                                       experience           advertising   \n29711                                experience native           advertising   \n\n                                        right_context   sentiment  ...  \\\n0         technology program activity position client    no skill  ...   \n1            finance related quantitative field solid  hard skill  ...   \n2      experience deep understanding digital analytic  hard skill  ...   \n3                                           ecosystem  hard skill  ...   \n4              washing dressing provide meal maintain  hard skill  ...   \n...                                               ...         ...  ...   \n29707                                   plan material           -  ...   \n29708                                                           -  ...   \n29709                                                           -  ...   \n29710                                           space           -  ...   \n29711                                                           -  ...   \n\n           92.2      93.2      94.2      95.2      96.2      97.2      98.2  \\\n0      0.062610 -0.901445  0.119658 -2.231398 -0.026215  0.968264  0.625995   \n1     -0.562210 -0.193270 -0.121037 -0.881090 -0.195065  1.244360 -1.031470   \n2     -1.082756 -0.611106  0.671305 -2.038949 -0.838076  1.162073 -0.260606   \n3     -0.580672 -1.114572  0.917981 -1.008365 -0.186413 -0.172627  0.458130   \n4      0.950690 -0.750322  1.003237 -0.246654 -0.033974  0.730912 -0.684607   \n...         ...       ...       ...       ...       ...       ...       ...   \n29707  0.489482 -2.090913  0.040841  0.199304 -0.941954  3.088337  0.447779   \n29708  0.000000  0.000000  0.000000  0.000000  0.000000  0.000000  0.000000   \n29709  0.000000  0.000000  0.000000  0.000000  0.000000  0.000000  0.000000   \n29710 -0.925695  0.080737 -0.011589 -1.486976 -0.015590 -1.302662  0.007577   \n29711  0.000000  0.000000  0.000000  0.000000  0.000000  0.000000  0.000000   \n\n           99.2  pseudoLabels  \\\n0     -0.502683             0   \n1     -1.175754             1   \n2     -0.599322             2   \n3      0.085958             2   \n4     -0.025193             3   \n...         ...           ...   \n29707 -0.593014             2   \n29708  0.000000             4   \n29709  0.000000             2   \n29710 -1.045131             2   \n29711  0.000000             2   \n\n                                                combined  \n0      include educate recommend social:0 medium:0 to...  \n1      attribution benchmarke analysis advanced degre...  \n2      executive team possess decade online:2 marketi...  \n3      understand mechanic intricacy advertising:2   ...  \n4      include clean:3    washing dressing provide me...  \n...                                                  ...  \n29707  marketing team assist development product mark...  \n29708      experience agile software:4 development:4   .  \n29709   strong work knowledge online:2 advertising:2   .  \n29710                 experience advertising:2    space.  \n29711               experience native advertising:2    .  \n\n[29712 rows x 315 columns]",
      "text/html": "<div>\n<style scoped>\n    .dataframe tbody tr th:only-of-type {\n        vertical-align: middle;\n    }\n\n    .dataframe tbody tr th {\n        vertical-align: top;\n    }\n\n    .dataframe thead th {\n        text-align: right;\n    }\n</style>\n<table border=\"1\" class=\"dataframe\">\n  <thead>\n    <tr style=\"text-align: right;\">\n      <th></th>\n      <th>token_0</th>\n      <th>token_1</th>\n      <th>token_2</th>\n      <th>token_3</th>\n      <th>token_4</th>\n      <th>origin_sentence</th>\n      <th>left_context</th>\n      <th>candidate_skill</th>\n      <th>right_context</th>\n      <th>sentiment</th>\n      <th>...</th>\n      <th>92.2</th>\n      <th>93.2</th>\n      <th>94.2</th>\n      <th>95.2</th>\n      <th>96.2</th>\n      <th>97.2</th>\n      <th>98.2</th>\n      <th>99.2</th>\n      <th>pseudoLabels</th>\n      <th>combined</th>\n    </tr>\n  </thead>\n  <tbody>\n    <tr>\n      <th>0</th>\n      <td>social:0</td>\n      <td>medium:0</td>\n      <td>tool:0</td>\n      <td></td>\n      <td></td>\n      <td>this includes educating and recommending socia...</td>\n      <td>include educate recommend</td>\n      <td>social medium tool</td>\n      <td>technology program activity position client</td>\n      <td>no skill</td>\n      <td>...</td>\n      <td>0.062610</td>\n      <td>-0.901445</td>\n      <td>0.119658</td>\n      <td>-2.231398</td>\n      <td>-0.026215</td>\n      <td>0.968264</td>\n      <td>0.625995</td>\n      <td>-0.502683</td>\n      <td>0</td>\n      <td>include educate recommend social:0 medium:0 to...</td>\n    </tr>\n    <tr>\n      <th>1</th>\n      <td>economic:1</td>\n      <td></td>\n      <td></td>\n      <td></td>\n      <td></td>\n      <td>depending on the background and professional e...</td>\n      <td>attribution benchmarke analysis advanced degree</td>\n      <td>economic</td>\n      <td>finance related quantitative field solid</td>\n      <td>hard skill</td>\n      <td>...</td>\n      <td>-0.562210</td>\n      <td>-0.193270</td>\n      <td>-0.121037</td>\n      <td>-0.881090</td>\n      <td>-0.195065</td>\n      <td>1.244360</td>\n      <td>-1.031470</td>\n      <td>-1.175754</td>\n      <td>1</td>\n      <td>attribution benchmarke analysis advanced degre...</td>\n    </tr>\n    <tr>\n      <th>2</th>\n      <td>online:2</td>\n      <td>marketing:2</td>\n      <td></td>\n      <td></td>\n      <td></td>\n      <td>our executive team possesses decades of online...</td>\n      <td>executive team possess decade</td>\n      <td>online marketing</td>\n      <td>experience deep understanding digital analytic</td>\n      <td>hard skill</td>\n      <td>...</td>\n      <td>-1.082756</td>\n      <td>-0.611106</td>\n      <td>0.671305</td>\n      <td>-2.038949</td>\n      <td>-0.838076</td>\n      <td>1.162073</td>\n      <td>-0.260606</td>\n      <td>-0.599322</td>\n      <td>2</td>\n      <td>executive team possess decade online:2 marketi...</td>\n    </tr>\n    <tr>\n      <th>3</th>\n      <td>advertising:2</td>\n      <td></td>\n      <td></td>\n      <td></td>\n      <td></td>\n      <td>understand mechanics and intricacies of advert...</td>\n      <td>understand mechanic intricacy</td>\n      <td>advertising</td>\n      <td>ecosystem</td>\n      <td>hard skill</td>\n      <td>...</td>\n      <td>-0.580672</td>\n      <td>-1.114572</td>\n      <td>0.917981</td>\n      <td>-1.008365</td>\n      <td>-0.186413</td>\n      <td>-0.172627</td>\n      <td>0.458130</td>\n      <td>0.085958</td>\n      <td>2</td>\n      <td>understand mechanic intricacy advertising:2   ...</td>\n    </tr>\n    <tr>\n      <th>4</th>\n      <td>clean:3</td>\n      <td></td>\n      <td></td>\n      <td></td>\n      <td></td>\n      <td>this may include cleaning washing and dressing...</td>\n      <td>include</td>\n      <td>clean</td>\n      <td>washing dressing provide meal maintain</td>\n      <td>hard skill</td>\n      <td>...</td>\n      <td>0.950690</td>\n      <td>-0.750322</td>\n      <td>1.003237</td>\n      <td>-0.246654</td>\n      <td>-0.033974</td>\n      <td>0.730912</td>\n      <td>-0.684607</td>\n      <td>-0.025193</td>\n      <td>3</td>\n      <td>include clean:3    washing dressing provide me...</td>\n    </tr>\n    <tr>\n      <th>...</th>\n      <td>...</td>\n      <td>...</td>\n      <td>...</td>\n      <td>...</td>\n      <td>...</td>\n      <td>...</td>\n      <td>...</td>\n      <td>...</td>\n      <td>...</td>\n      <td>...</td>\n      <td>...</td>\n      <td>...</td>\n      <td>...</td>\n      <td>...</td>\n      <td>...</td>\n      <td>...</td>\n      <td>...</td>\n      <td>...</td>\n      <td>...</td>\n      <td>...</td>\n      <td>...</td>\n    </tr>\n    <tr>\n      <th>29707</th>\n      <td>marketing:2</td>\n      <td></td>\n      <td></td>\n      <td></td>\n      <td></td>\n      <td>work with the marketing team to assist in the ...</td>\n      <td>marketing team assist development product</td>\n      <td>marketing</td>\n      <td>plan material</td>\n      <td>-</td>\n      <td>...</td>\n      <td>0.489482</td>\n      <td>-2.090913</td>\n      <td>0.040841</td>\n      <td>0.199304</td>\n      <td>-0.941954</td>\n      <td>3.088337</td>\n      <td>0.447779</td>\n      <td>-0.593014</td>\n      <td>2</td>\n      <td>marketing team assist development product mark...</td>\n    </tr>\n    <tr>\n      <th>29708</th>\n      <td>software:4</td>\n      <td>development:4</td>\n      <td></td>\n      <td></td>\n      <td></td>\n      <td>experience with agile software development</td>\n      <td>experience agile</td>\n      <td>software development</td>\n      <td></td>\n      <td>-</td>\n      <td>...</td>\n      <td>0.000000</td>\n      <td>0.000000</td>\n      <td>0.000000</td>\n      <td>0.000000</td>\n      <td>0.000000</td>\n      <td>0.000000</td>\n      <td>0.000000</td>\n      <td>0.000000</td>\n      <td>4</td>\n      <td>experience agile software:4 development:4   .</td>\n    </tr>\n    <tr>\n      <th>29709</th>\n      <td>online:2</td>\n      <td>advertising:2</td>\n      <td></td>\n      <td></td>\n      <td></td>\n      <td>strong working knowledge of online advertising</td>\n      <td>strong work knowledge</td>\n      <td>online advertising</td>\n      <td></td>\n      <td>-</td>\n      <td>...</td>\n      <td>0.000000</td>\n      <td>0.000000</td>\n      <td>0.000000</td>\n      <td>0.000000</td>\n      <td>0.000000</td>\n      <td>0.000000</td>\n      <td>0.000000</td>\n      <td>0.000000</td>\n      <td>2</td>\n      <td>strong work knowledge online:2 advertising:2   .</td>\n    </tr>\n    <tr>\n      <th>29710</th>\n      <td>advertising:2</td>\n      <td></td>\n      <td></td>\n      <td></td>\n      <td></td>\n      <td>experience in the advertising space</td>\n      <td>experience</td>\n      <td>advertising</td>\n      <td>space</td>\n      <td>-</td>\n      <td>...</td>\n      <td>-0.925695</td>\n      <td>0.080737</td>\n      <td>-0.011589</td>\n      <td>-1.486976</td>\n      <td>-0.015590</td>\n      <td>-1.302662</td>\n      <td>0.007577</td>\n      <td>-1.045131</td>\n      <td>2</td>\n      <td>experience advertising:2    space.</td>\n    </tr>\n    <tr>\n      <th>29711</th>\n      <td>advertising:2</td>\n      <td></td>\n      <td></td>\n      <td></td>\n      <td></td>\n      <td>experience with native advertising</td>\n      <td>experience native</td>\n      <td>advertising</td>\n      <td></td>\n      <td>-</td>\n      <td>...</td>\n      <td>0.000000</td>\n      <td>0.000000</td>\n      <td>0.000000</td>\n      <td>0.000000</td>\n      <td>0.000000</td>\n      <td>0.000000</td>\n      <td>0.000000</td>\n      <td>0.000000</td>\n      <td>2</td>\n      <td>experience native advertising:2    .</td>\n    </tr>\n  </tbody>\n</table>\n<p>29712 rows × 315 columns</p>\n</div>"
     },
     "execution_count": 144,
     "metadata": {},
     "output_type": "execute_result"
    }
   ],
   "source": [
    "skill_split_layer1 = data_layer1['candidate_skill'].str.split(' ', expand=True)\n",
    "skill_split_layer2 = data_layer2['candidate_skill'].str.split(' ', expand=True)\n",
    "skill_split_layer1 = skill_split_layer1.add_prefix('token_')\n",
    "skill_split_layer2 = skill_split_layer2.add_prefix('token_')\n",
    "\n",
    "data_layer1 = skill_split_layer1.join(data_layer1)\n",
    "data_layer2 = skill_split_layer2.join(data_layer2)\n",
    "\n",
    "data_layer1['token_0'] = data_layer1['token_0'] + ':' + data_layer1['pseudoLabels'].astype(str)\n",
    "data_layer1['token_1'] = data_layer1['token_1'] + ':' + data_layer1['pseudoLabels'].astype(str)\n",
    "data_layer1['token_2'] = data_layer1['token_2'] + ':' + data_layer1['pseudoLabels'].astype(str)\n",
    "data_layer1['token_3'] = data_layer1['token_3'] + ':' + data_layer1['pseudoLabels'].astype(str)\n",
    "\n",
    "data_layer2['token_0'] = data_layer2['token_0'] + ':' + data_layer2['pseudoLabels'].astype(str)\n",
    "data_layer2['token_1'] = data_layer2['token_1'] + ':' + data_layer2['pseudoLabels'].astype(str)\n",
    "data_layer2['token_2'] = data_layer2['token_2'] + ':' + data_layer2['pseudoLabels'].astype(str)\n",
    "data_layer2['token_3'] = data_layer2['token_3'] + ':' + data_layer2['pseudoLabels'].astype(str)\n",
    "\n",
    "data_layer1 = data_layer1.fillna('')\n",
    "data_layer2 = data_layer2.fillna('')\n",
    "\n",
    "data_layer1['combined'] = data_layer1['left_context'] + ' ' + data_layer1['token_0'] + ' ' + data_layer1['token_1'] + ' ' + data_layer1['token_2'] + ' ' +data_layer1['token_3'] + ' ' + data_layer1['right_context'] + '.'\n",
    "data_layer2['combined'] = data_layer2['left_context'] + ' ' + data_layer2['token_0'] + ' ' + data_layer2['token_1'] + ' ' + data_layer2['token_2'] + ' ' +data_layer2['token_3'] + ' ' + data_layer2['right_context'] + '.'\n",
    "\n",
    "data_layer1"
   ],
   "metadata": {
    "collapsed": false,
    "pycharm": {
     "name": "#%%\n"
    }
   }
  },
  {
   "cell_type": "code",
   "execution_count": 145,
   "outputs": [
    {
     "data": {
      "text/plain": "           token_0       token_1        token_2 token_3 token_4  \\\n18432  marketing:2                                                \n11773   ability:15         to:15  prioritize:15                   \n21695        sql:4      server:4                                  \n17592      clean:0                                                \n25655     oracle:4                                                \n...            ...           ...            ...     ...     ...   \n28636      html5:4                                                \n17730  financial:1  management:1                                  \n28030     inside:2        sale:2                                  \n15725   forecast:1                                                \n19966      linux:4                                                \n\n                                         origin_sentence  \\\n18432  sound understanding of the principles of marke...   \n11773                                                      \n21695  background or aptitude in c sql server softwar...   \n17592  driver must have a cdl a and a clean driving r...   \n25655  write java and php code based on requirements ...   \n...                                                  ...   \n28636              development experience with html5 css   \n17730  we are looking for an experienced financial co...   \n28030  we are looking for an inside sales rep who wil...   \n15725  develop and execute sales business plans to ac...   \n19966  good knowledge of linux servers and some exper...   \n\n                                            left_context  \\\n18432                      sound understanding principle   \n11773                          skill a well a the prove    \n21695                              background aptitude c   \n17592                                         driver cdl   \n25655                project team build maintain support   \n...                                                  ...   \n28636                             development experience   \n17730  experienced financial controller undertake aspect   \n28030            help contribute continue growth company   \n15725           objective provide accurate timely report   \n19966                server experience build deploy code   \n\n             candidate_skill  \\\n18432              marketing   \n11773  ability to prioritize   \n21695             sql server   \n17592                  clean   \n25655                 oracle   \n...                      ...   \n28636                  html5   \n17730   financial management   \n28030            inside sale   \n15725               forecast   \n19966                  linux   \n\n                                           right_context   sentiment  ...  \\\n18432                                                              -  ...   \n11773          multiple project while maintain attention  soft skill  ...   \n21695                     software progamming background           -  ...   \n17592                                     driving record           -  ...   \n25655            database development qa test production           -  ...   \n...                                                  ...         ...  ...   \n28636                                                css           -  ...   \n17730  include corporate accounting regulatory financial           -  ...   \n28030                 rep help generate incremental sale           -  ...   \n15725                                                              -  ...   \n19966                                        environment           -  ...   \n\n           92.2      93.2      94.2      95.2      96.2      97.2      98.2  \\\n18432  0.000000  0.000000  0.000000  0.000000  0.000000  0.000000  0.000000   \n11773 -0.308194 -0.597135  0.995124 -1.007464  0.462078  0.974650  0.812480   \n21695 -0.400426  0.265665  0.463743 -1.794733 -0.553238  1.736874 -0.098119   \n17592 -0.611333 -0.187969  0.359372  0.279516  1.005442  2.487403  0.843813   \n25655  0.748386 -1.712495 -0.060341 -1.060310 -0.714603  1.476333 -0.622971   \n...         ...       ...       ...       ...       ...       ...       ...   \n28636 -2.942741 -1.173161 -2.013495  2.021407 -1.364368 -0.640359 -0.695487   \n17730 -0.157077 -1.802988  0.470942 -0.522337  0.428332  1.657672 -0.963494   \n28030 -0.104724 -0.152700  0.636948 -1.097827 -0.032135  1.944885 -1.452359   \n15725  0.000000  0.000000  0.000000  0.000000  0.000000  0.000000  0.000000   \n19966  0.610377 -0.286675  1.469903 -2.097266 -0.172422  2.039670 -2.371434   \n\n           99.2  pseudoLabels  \\\n18432  0.000000             2   \n11773  0.294888            15   \n21695 -0.717703             4   \n17592  0.850819             0   \n25655  0.106865             4   \n...         ...           ...   \n28636  0.553439             4   \n17730 -0.252798             1   \n28030 -0.431056             2   \n15725  0.000000             1   \n19966  0.312757             4   \n\n                                                combined  \n18432     sound understanding principle marketing:2    .  \n11773  skill a well a the prove  ability:15 to:15 pri...  \n21695  background aptitude c sql:4 server:4   softwar...  \n17592              driver cdl clean:0    driving record.  \n25655  project team build maintain support oracle:4  ...  \n...                                                  ...  \n28636             development experience html5:4    css.  \n17730  experienced financial controller undertake asp...  \n28030  help contribute continue growth company inside...  \n15725  objective provide accurate timely report forec...  \n19966  server experience build deploy code linux:4   ...  \n\n[29712 rows x 315 columns]",
      "text/html": "<div>\n<style scoped>\n    .dataframe tbody tr th:only-of-type {\n        vertical-align: middle;\n    }\n\n    .dataframe tbody tr th {\n        vertical-align: top;\n    }\n\n    .dataframe thead th {\n        text-align: right;\n    }\n</style>\n<table border=\"1\" class=\"dataframe\">\n  <thead>\n    <tr style=\"text-align: right;\">\n      <th></th>\n      <th>token_0</th>\n      <th>token_1</th>\n      <th>token_2</th>\n      <th>token_3</th>\n      <th>token_4</th>\n      <th>origin_sentence</th>\n      <th>left_context</th>\n      <th>candidate_skill</th>\n      <th>right_context</th>\n      <th>sentiment</th>\n      <th>...</th>\n      <th>92.2</th>\n      <th>93.2</th>\n      <th>94.2</th>\n      <th>95.2</th>\n      <th>96.2</th>\n      <th>97.2</th>\n      <th>98.2</th>\n      <th>99.2</th>\n      <th>pseudoLabels</th>\n      <th>combined</th>\n    </tr>\n  </thead>\n  <tbody>\n    <tr>\n      <th>18432</th>\n      <td>marketing:2</td>\n      <td></td>\n      <td></td>\n      <td></td>\n      <td></td>\n      <td>sound understanding of the principles of marke...</td>\n      <td>sound understanding principle</td>\n      <td>marketing</td>\n      <td></td>\n      <td>-</td>\n      <td>...</td>\n      <td>0.000000</td>\n      <td>0.000000</td>\n      <td>0.000000</td>\n      <td>0.000000</td>\n      <td>0.000000</td>\n      <td>0.000000</td>\n      <td>0.000000</td>\n      <td>0.000000</td>\n      <td>2</td>\n      <td>sound understanding principle marketing:2    .</td>\n    </tr>\n    <tr>\n      <th>11773</th>\n      <td>ability:15</td>\n      <td>to:15</td>\n      <td>prioritize:15</td>\n      <td></td>\n      <td></td>\n      <td></td>\n      <td>skill a well a the prove</td>\n      <td>ability to prioritize</td>\n      <td>multiple project while maintain attention</td>\n      <td>soft skill</td>\n      <td>...</td>\n      <td>-0.308194</td>\n      <td>-0.597135</td>\n      <td>0.995124</td>\n      <td>-1.007464</td>\n      <td>0.462078</td>\n      <td>0.974650</td>\n      <td>0.812480</td>\n      <td>0.294888</td>\n      <td>15</td>\n      <td>skill a well a the prove  ability:15 to:15 pri...</td>\n    </tr>\n    <tr>\n      <th>21695</th>\n      <td>sql:4</td>\n      <td>server:4</td>\n      <td></td>\n      <td></td>\n      <td></td>\n      <td>background or aptitude in c sql server softwar...</td>\n      <td>background aptitude c</td>\n      <td>sql server</td>\n      <td>software progamming background</td>\n      <td>-</td>\n      <td>...</td>\n      <td>-0.400426</td>\n      <td>0.265665</td>\n      <td>0.463743</td>\n      <td>-1.794733</td>\n      <td>-0.553238</td>\n      <td>1.736874</td>\n      <td>-0.098119</td>\n      <td>-0.717703</td>\n      <td>4</td>\n      <td>background aptitude c sql:4 server:4   softwar...</td>\n    </tr>\n    <tr>\n      <th>17592</th>\n      <td>clean:0</td>\n      <td></td>\n      <td></td>\n      <td></td>\n      <td></td>\n      <td>driver must have a cdl a and a clean driving r...</td>\n      <td>driver cdl</td>\n      <td>clean</td>\n      <td>driving record</td>\n      <td>-</td>\n      <td>...</td>\n      <td>-0.611333</td>\n      <td>-0.187969</td>\n      <td>0.359372</td>\n      <td>0.279516</td>\n      <td>1.005442</td>\n      <td>2.487403</td>\n      <td>0.843813</td>\n      <td>0.850819</td>\n      <td>0</td>\n      <td>driver cdl clean:0    driving record.</td>\n    </tr>\n    <tr>\n      <th>25655</th>\n      <td>oracle:4</td>\n      <td></td>\n      <td></td>\n      <td></td>\n      <td></td>\n      <td>write java and php code based on requirements ...</td>\n      <td>project team build maintain support</td>\n      <td>oracle</td>\n      <td>database development qa test production</td>\n      <td>-</td>\n      <td>...</td>\n      <td>0.748386</td>\n      <td>-1.712495</td>\n      <td>-0.060341</td>\n      <td>-1.060310</td>\n      <td>-0.714603</td>\n      <td>1.476333</td>\n      <td>-0.622971</td>\n      <td>0.106865</td>\n      <td>4</td>\n      <td>project team build maintain support oracle:4  ...</td>\n    </tr>\n    <tr>\n      <th>...</th>\n      <td>...</td>\n      <td>...</td>\n      <td>...</td>\n      <td>...</td>\n      <td>...</td>\n      <td>...</td>\n      <td>...</td>\n      <td>...</td>\n      <td>...</td>\n      <td>...</td>\n      <td>...</td>\n      <td>...</td>\n      <td>...</td>\n      <td>...</td>\n      <td>...</td>\n      <td>...</td>\n      <td>...</td>\n      <td>...</td>\n      <td>...</td>\n      <td>...</td>\n      <td>...</td>\n    </tr>\n    <tr>\n      <th>28636</th>\n      <td>html5:4</td>\n      <td></td>\n      <td></td>\n      <td></td>\n      <td></td>\n      <td>development experience with html5 css</td>\n      <td>development experience</td>\n      <td>html5</td>\n      <td>css</td>\n      <td>-</td>\n      <td>...</td>\n      <td>-2.942741</td>\n      <td>-1.173161</td>\n      <td>-2.013495</td>\n      <td>2.021407</td>\n      <td>-1.364368</td>\n      <td>-0.640359</td>\n      <td>-0.695487</td>\n      <td>0.553439</td>\n      <td>4</td>\n      <td>development experience html5:4    css.</td>\n    </tr>\n    <tr>\n      <th>17730</th>\n      <td>financial:1</td>\n      <td>management:1</td>\n      <td></td>\n      <td></td>\n      <td></td>\n      <td>we are looking for an experienced financial co...</td>\n      <td>experienced financial controller undertake aspect</td>\n      <td>financial management</td>\n      <td>include corporate accounting regulatory financial</td>\n      <td>-</td>\n      <td>...</td>\n      <td>-0.157077</td>\n      <td>-1.802988</td>\n      <td>0.470942</td>\n      <td>-0.522337</td>\n      <td>0.428332</td>\n      <td>1.657672</td>\n      <td>-0.963494</td>\n      <td>-0.252798</td>\n      <td>1</td>\n      <td>experienced financial controller undertake asp...</td>\n    </tr>\n    <tr>\n      <th>28030</th>\n      <td>inside:2</td>\n      <td>sale:2</td>\n      <td></td>\n      <td></td>\n      <td></td>\n      <td>we are looking for an inside sales rep who wil...</td>\n      <td>help contribute continue growth company</td>\n      <td>inside sale</td>\n      <td>rep help generate incremental sale</td>\n      <td>-</td>\n      <td>...</td>\n      <td>-0.104724</td>\n      <td>-0.152700</td>\n      <td>0.636948</td>\n      <td>-1.097827</td>\n      <td>-0.032135</td>\n      <td>1.944885</td>\n      <td>-1.452359</td>\n      <td>-0.431056</td>\n      <td>2</td>\n      <td>help contribute continue growth company inside...</td>\n    </tr>\n    <tr>\n      <th>15725</th>\n      <td>forecast:1</td>\n      <td></td>\n      <td></td>\n      <td></td>\n      <td></td>\n      <td>develop and execute sales business plans to ac...</td>\n      <td>objective provide accurate timely report</td>\n      <td>forecast</td>\n      <td></td>\n      <td>-</td>\n      <td>...</td>\n      <td>0.000000</td>\n      <td>0.000000</td>\n      <td>0.000000</td>\n      <td>0.000000</td>\n      <td>0.000000</td>\n      <td>0.000000</td>\n      <td>0.000000</td>\n      <td>0.000000</td>\n      <td>1</td>\n      <td>objective provide accurate timely report forec...</td>\n    </tr>\n    <tr>\n      <th>19966</th>\n      <td>linux:4</td>\n      <td></td>\n      <td></td>\n      <td></td>\n      <td></td>\n      <td>good knowledge of linux servers and some exper...</td>\n      <td>server experience build deploy code</td>\n      <td>linux</td>\n      <td>environment</td>\n      <td>-</td>\n      <td>...</td>\n      <td>0.610377</td>\n      <td>-0.286675</td>\n      <td>1.469903</td>\n      <td>-2.097266</td>\n      <td>-0.172422</td>\n      <td>2.039670</td>\n      <td>-2.371434</td>\n      <td>0.312757</td>\n      <td>4</td>\n      <td>server experience build deploy code linux:4   ...</td>\n    </tr>\n  </tbody>\n</table>\n<p>29712 rows × 315 columns</p>\n</div>"
     },
     "execution_count": 145,
     "metadata": {},
     "output_type": "execute_result"
    }
   ],
   "source": [
    "data_layer1_shuffled = shuffle(data_layer1, random_state=123)\n",
    "data_layer2_shuffled = shuffle(data_layer2, random_state=123)\n",
    "data_layer1_shuffled"
   ],
   "metadata": {
    "collapsed": false,
    "pycharm": {
     "name": "#%%\n"
    }
   }
  },
  {
   "cell_type": "code",
   "execution_count": 146,
   "outputs": [
    {
     "name": "stdout",
     "output_type": "stream",
     "text": [
      "29712\n",
      "23770\n",
      "2971\n",
      "2971\n",
      "                                                combined\n",
      "18432     sound understanding principle marketing:2    .\n",
      "11773  skill a well a the prove  ability:15 to:15 pri...\n",
      "21695  background aptitude c sql:4 server:4   softwar...\n",
      "17592              driver cdl clean:0    driving record.\n",
      "25655  project team build maintain support oracle:4  ...\n",
      "...                                                  ...\n",
      "28636             development experience html5:4    css.\n",
      "17730  experienced financial controller undertake asp...\n",
      "28030  help contribute continue growth company inside...\n",
      "15725  objective provide accurate timely report forec...\n",
      "19966  server experience build deploy code linux:4   ...\n",
      "\n",
      "[23770 rows x 1 columns]\n"
     ]
    }
   ],
   "source": [
    "print(len(data_layer1_shuffled))\n",
    "train_layer1 = data_layer1_shuffled[['combined']].iloc[0:round(0.8*len(data_layer1_shuffled)),]\n",
    "val_layer1 = data_layer1_shuffled[['combined']].drop(train_layer1.index).iloc[0:round(0.1*len(data_layer1_shuffled)),]\n",
    "test_layer1 = data_layer1_shuffled[['combined']].drop(train_layer1.index).drop(val_layer1.index).iloc[0:round(0.1*len(data_layer1_shuffled)),]\n",
    "print(len(train_layer1))\n",
    "print(len(val_layer1))\n",
    "print(len(test_layer1))\n",
    "train_layer2 = data_layer2_shuffled[['combined']].iloc[0:round(0.8*len(data_layer2_shuffled)),]\n",
    "val_layer2 = data_layer2_shuffled[['combined']].drop(train_layer2.index).iloc[0:round(0.1*len(data_layer2_shuffled)),]\n",
    "test_layer2 = data_layer2_shuffled[['combined']].drop(train_layer2.index).drop(val_layer2.index).iloc[0:round(0.1*len(data_layer2_shuffled)),]\n",
    "\n",
    "test_layer1 = data_layer1_shuffled[['combined']].sample(frac=0.2,random_state=123)\n",
    "train_layer1 = data_layer1_shuffled.drop(test_layer1.index)\n",
    "train_layer1 = train_layer1[['combined']]\n",
    "\n",
    "test_layer2 = data_layer2_shuffled[['combined']].sample(frac=0.2,random_state=123)\n",
    "train_layer2 = data_layer2_shuffled.drop(test_layer2.index)\n",
    "train_layer2 = train_layer2[['combined']]\n",
    "\n",
    "print(train_layer1)"
   ],
   "metadata": {
    "collapsed": false,
    "pycharm": {
     "name": "#%%\n"
    }
   }
  },
  {
   "cell_type": "code",
   "execution_count": 147,
   "outputs": [
    {
     "name": "stderr",
     "output_type": "stream",
     "text": [
      "IOPub data rate exceeded.\n",
      "The notebook server will temporarily stop sending output\n",
      "to the client in order to avoid crashing it.\n",
      "To change this limit, set the config variable\n",
      "`--NotebookApp.iopub_data_rate_limit`.\n",
      "\n",
      "Current values:\n",
      "NotebookApp.iopub_data_rate_limit=1000000.0 (bytes/sec)\n",
      "NotebookApp.rate_limit_window=3.0 (secs)\n",
      "\n"
     ]
    }
   ],
   "source": [
    "def transform(dataset):\n",
    "    token_df = pd.DataFrame()\n",
    "\n",
    "    dataset= dataset\n",
    "\n",
    "    for index in range(0,len(dataset['combined'])):\n",
    "        tokens = pd.DataFrame(word_tokenize(dataset['combined'].iloc[index]),columns=['tokens'])\n",
    "        tokens['index'] = index\n",
    "\n",
    "        token_df = pd.concat([token_df,tokens])\n",
    "\n",
    "    annotationcolumn = token_df['tokens'].str.split(':',expand=True)\n",
    "\n",
    "    token_df['annotation'] = annotationcolumn[1]\n",
    "    token_df['tokens'] = annotationcolumn[0]\n",
    "\n",
    "    token_df['annotation'] = token_df['annotation'].fillna('0')\n",
    "\n",
    "    token_df = token_df.rename(columns={'index':'sentence'})\n",
    "\n",
    "    token_df['tuples'] = list(zip(token_df.tokens, token_df.annotation))\n",
    "\n",
    "    tuple_list = []\n",
    "    sublist=[]\n",
    "    for row in token_df['tuples']:\n",
    "        sublist.append(row)\n",
    "        if row[0]=='.':\n",
    "            tuple_list.append(sublist)\n",
    "            sublist=[]\n",
    "            next\n",
    "    #return sublist\n",
    "    return tuple_list\n",
    "\n",
    "training_layer1 = transform(train_layer1)\n",
    "validation_layer1 = transform(val_layer1)\n",
    "testing_layer1 = transform(test_layer1)\n",
    "\n",
    "training_layer2 = transform(train_layer2)\n",
    "validation_layer2 = transform(val_layer2)\n",
    "testing_layer2 = transform(test_layer2)\n",
    "\n",
    "print(training_layer1)"
   ],
   "metadata": {
    "collapsed": false,
    "pycharm": {
     "name": "#%%\n"
    }
   }
  },
  {
   "cell_type": "code",
   "execution_count": 148,
   "outputs": [
    {
     "name": "stderr",
     "output_type": "stream",
     "text": [
      "IOPub data rate exceeded.\n",
      "The notebook server will temporarily stop sending output\n",
      "to the client in order to avoid crashing it.\n",
      "To change this limit, set the config variable\n",
      "`--NotebookApp.iopub_data_rate_limit`.\n",
      "\n",
      "Current values:\n",
      "NotebookApp.iopub_data_rate_limit=1000000.0 (bytes/sec)\n",
      "NotebookApp.rate_limit_window=3.0 (secs)\n",
      "\n"
     ]
    }
   ],
   "source": [
    "def make_lists(dataset):\n",
    "    texts = []\n",
    "    tags = []\n",
    "\n",
    "    token_sublist = []\n",
    "    label_sublist = []\n",
    "\n",
    "    for sublist in dataset:\n",
    "        for token,label in sublist:\n",
    "\n",
    "            token_sublist.append(token)\n",
    "            label_sublist.append(label)\n",
    "            if token == '.':\n",
    "                texts.append(token_sublist)\n",
    "                tags.append(label_sublist)\n",
    "\n",
    "                token_sublist = []\n",
    "                label_sublist = []\n",
    "    return texts, tags\n",
    "\n",
    "training_text_layer1, training_label_layer1 = make_lists(training_layer1)\n",
    "val_text_layer1, val_label_layer1 = make_lists(validation_layer1)\n",
    "test_text_layer1, test_label_layer1 = make_lists(testing_layer1)\n",
    "\n",
    "training_text_layer2, training_label_layer2 = make_lists(training_layer2)\n",
    "val_text_layer2, val_label_layer2 = make_lists(validation_layer2)\n",
    "test_text_layer2, test_label_layer2 = make_lists(testing_layer2)\n",
    "\n",
    "print(training_text_layer1)\n",
    "print(training_label_layer1)"
   ],
   "metadata": {
    "collapsed": false,
    "pycharm": {
     "name": "#%%\n"
    }
   }
  },
  {
   "cell_type": "code",
   "execution_count": 149,
   "outputs": [
    {
     "name": "stderr",
     "output_type": "stream",
     "text": [
      "IOPub data rate exceeded.\n",
      "The notebook server will temporarily stop sending output\n",
      "to the client in order to avoid crashing it.\n",
      "To change this limit, set the config variable\n",
      "`--NotebookApp.iopub_data_rate_limit`.\n",
      "\n",
      "Current values:\n",
      "NotebookApp.iopub_data_rate_limit=1000000.0 (bytes/sec)\n",
      "NotebookApp.rate_limit_window=3.0 (secs)\n",
      "\n"
     ]
    }
   ],
   "source": [
    "def create_dict(text, label):\n",
    "    from collections import defaultdict\n",
    "    my_dict = defaultdict(list)\n",
    "    for x in text:\n",
    "        my_dict['sentences'].append(x)\n",
    "\n",
    "    for x in label:\n",
    "        my_dict['tags'].append(x)\n",
    "\n",
    "    return dict(my_dict)\n",
    "\n",
    "\n",
    "training_dict_layer1 = create_dict(training_text_layer1, training_label_layer1)\n",
    "validation_dict_layer1 = create_dict(val_text_layer1, val_label_layer1)\n",
    "testing_dict_layer1 = create_dict(test_text_layer1, test_label_layer1)\n",
    "\n",
    "training_dict_layer2 = create_dict(training_text_layer2, training_label_layer2)\n",
    "validation_dict_layer2 = create_dict(val_text_layer2, val_label_layer2)\n",
    "testing_dict_layer2 = create_dict(test_text_layer2, test_label_layer2)\n",
    "print(training_dict_layer1)"
   ],
   "metadata": {
    "collapsed": false,
    "pycharm": {
     "name": "#%%\n"
    }
   }
  },
  {
   "cell_type": "code",
   "execution_count": 154,
   "outputs": [
    {
     "name": "stdout",
     "output_type": "stream",
     "text": [
      "[1, 2, 3, 4, 5, 6, 7, 8, 9, 10, 11, 12, 13, 14, 15, 16, 17, 18, 19, 20, 21, 22, 23, 24, 25, 26, 27, 28, 29, 30, 31, 32, 33, 34, 35, 36, 37, 38, 39]\n",
      "[1, 2, 3, 4, 5, 6, 7, 8, 9, 10, 11, 12, 13, 14, 15, 16, 17, 18, 19, 20, 21, 22, 23, 24, 25, 26, 27, 28, 29, 30, 31, 32, 33, 34, 35, 36, 37, 38, 39, 40, 41, 42, 43, 44, 45, 46, 47, 48, 49, 50, 51, 52, 53, 54, 55]\n"
     ]
    }
   ],
   "source": [
    "print(list(data_layer1_ddict.values())[1:])\n",
    "print(list(data_layer2_ddict.values())[1:])"
   ],
   "metadata": {
    "collapsed": false,
    "pycharm": {
     "name": "#%%\n"
    }
   }
  },
  {
   "cell_type": "code",
   "execution_count": 56,
   "outputs": [
    {
     "name": "stdout",
     "output_type": "stream",
     "text": [
      "Device automatically set to: cpu\n"
     ]
    },
    {
     "name": "stderr",
     "output_type": "stream",
     "text": [
      "Some weights of the model checkpoint at bert-base-uncased were not used when initializing BertModel: ['cls.seq_relationship.bias', 'cls.seq_relationship.weight', 'cls.predictions.decoder.weight', 'cls.predictions.transform.dense.weight', 'cls.predictions.transform.dense.bias', 'cls.predictions.transform.LayerNorm.bias', 'cls.predictions.bias', 'cls.predictions.transform.LayerNorm.weight']\n",
      "- This IS expected if you are initializing BertModel from the checkpoint of a model trained on another task or with another architecture (e.g. initializing a BertForSequenceClassification model from a BertForPreTraining model).\n",
      "- This IS NOT expected if you are initializing BertModel from the checkpoint of a model that you expect to be exactly identical (initializing a BertForSequenceClassification model from a BertForSequenceClassification model).\n"
     ]
    },
    {
     "name": "stdout",
     "output_type": "stream",
     "text": [
      "Device automatically set to: cpu\n"
     ]
    },
    {
     "name": "stderr",
     "output_type": "stream",
     "text": [
      "Some weights of the model checkpoint at bert-base-uncased were not used when initializing BertModel: ['cls.seq_relationship.bias', 'cls.seq_relationship.weight', 'cls.predictions.decoder.weight', 'cls.predictions.transform.dense.weight', 'cls.predictions.transform.dense.bias', 'cls.predictions.transform.LayerNorm.bias', 'cls.predictions.bias', 'cls.predictions.transform.LayerNorm.weight']\n",
      "- This IS expected if you are initializing BertModel from the checkpoint of a model trained on another task or with another architecture (e.g. initializing a BertForSequenceClassification model from a BertForPreTraining model).\n",
      "- This IS NOT expected if you are initializing BertModel from the checkpoint of a model that you expect to be exactly identical (initializing a BertForSequenceClassification model from a BertForSequenceClassification model).\n"
     ]
    },
    {
     "name": "stdout",
     "output_type": "stream",
     "text": [
      "Device automatically set to: cpu\n"
     ]
    },
    {
     "name": "stderr",
     "output_type": "stream",
     "text": [
      "Some weights of the model checkpoint at bert-base-multilingual-uncased were not used when initializing BertModel: ['cls.seq_relationship.bias', 'cls.seq_relationship.weight', 'cls.predictions.decoder.weight', 'cls.predictions.transform.dense.weight', 'cls.predictions.transform.dense.bias', 'cls.predictions.transform.LayerNorm.bias', 'cls.predictions.bias', 'cls.predictions.transform.LayerNorm.weight']\n",
      "- This IS expected if you are initializing BertModel from the checkpoint of a model trained on another task or with another architecture (e.g. initializing a BertForSequenceClassification model from a BertForPreTraining model).\n",
      "- This IS NOT expected if you are initializing BertModel from the checkpoint of a model that you expect to be exactly identical (initializing a BertForSequenceClassification model from a BertForSequenceClassification model).\n"
     ]
    },
    {
     "name": "stdout",
     "output_type": "stream",
     "text": [
      "Device automatically set to: cpu\n"
     ]
    },
    {
     "name": "stderr",
     "output_type": "stream",
     "text": [
      "Some weights of the model checkpoint at bert-base-multilingual-uncased were not used when initializing BertModel: ['cls.seq_relationship.bias', 'cls.seq_relationship.weight', 'cls.predictions.decoder.weight', 'cls.predictions.transform.dense.weight', 'cls.predictions.transform.dense.bias', 'cls.predictions.transform.LayerNorm.bias', 'cls.predictions.bias', 'cls.predictions.transform.LayerNorm.weight']\n",
      "- This IS expected if you are initializing BertModel from the checkpoint of a model trained on another task or with another architecture (e.g. initializing a BertForSequenceClassification model from a BertForPreTraining model).\n",
      "- This IS NOT expected if you are initializing BertModel from the checkpoint of a model that you expect to be exactly identical (initializing a BertForSequenceClassification model from a BertForSequenceClassification model).\n"
     ]
    }
   ],
   "source": [
    "from NERDA.models import NERDA\n",
    "#[1,2,3,4,5,6,7,8,9,10,11,12,13,14,15,16,17,18,19,20,21,22,23,24,25,26,27,28,29,30,31,32,33,34,35,36,37,38,39,40,41,42,43,44,45,46,47,48]\n",
    "tag_scheme_layer1 = list(data_layer1_ddict.values())[1:]\n",
    "tag_scheme_layer2 = list(data_layer2_ddict.values())[1:]\n",
    "model_layer1 = NERDA(dataset_training = training_dict_layer1,\n",
    "              dataset_validation = validation_dict_layer1,\n",
    "              tag_scheme = tag_scheme_layer1,\n",
    "              tag_outside = '0',\n",
    "              transformer = 'bert-base-uncased',\n",
    "              hyperparameters = {'epochs' : 3,\n",
    "                                 'warmup_steps' : 500,\n",
    "                                 'train_batch_size': 13,\n",
    "                                 'learning_rate': 0.0001},)\n",
    "\n",
    "model_layer2 = NERDA(dataset_training = training_dict_layer2,\n",
    "              dataset_validation = validation_dict_layer2,\n",
    "              tag_scheme = tag_scheme_layer2,\n",
    "              tag_outside = '0',\n",
    "              transformer = 'bert-base-uncased',\n",
    "              hyperparameters = {'epochs' : 3,\n",
    "                                 'warmup_steps' : 500,\n",
    "                                 'train_batch_size': 13,\n",
    "                                 'learning_rate': 0.0001},)\n",
    "model_layer1_multi = NERDA(dataset_training = training_dict_layer1,\n",
    "              dataset_validation = validation_dict_layer1,\n",
    "              tag_scheme = tag_scheme_layer1,\n",
    "              tag_outside = '0',\n",
    "              transformer = 'bert-base-multilingual-uncased',\n",
    "              hyperparameters = {'epochs' : 3,\n",
    "                                 'warmup_steps' : 500,\n",
    "                                 'train_batch_size': 13,\n",
    "                                 'learning_rate': 0.0001},)\n",
    "\n",
    "model_layer2_multi = NERDA(dataset_training = training_dict_layer2,\n",
    "              dataset_validation = validation_dict_layer2,\n",
    "              tag_scheme = tag_scheme_layer2,\n",
    "              tag_outside = '0',\n",
    "              transformer = 'bert-base-multilingual-uncased',\n",
    "              hyperparameters = {'epochs' : 3,\n",
    "                                 'warmup_steps' : 500,\n",
    "                                 'train_batch_size': 13,\n",
    "                                 'learning_rate': 0.0001},)"
   ],
   "metadata": {
    "collapsed": false,
    "pycharm": {
     "name": "#%%\n"
    }
   }
  },
  {
   "cell_type": "code",
   "execution_count": 57,
   "outputs": [
    {
     "name": "stdout",
     "output_type": "stream",
     "text": [
      "\n",
      " Epoch 1 / 3\n"
     ]
    },
    {
     "name": "stderr",
     "output_type": "stream",
     "text": [
      "  1%|▏         | 26/1829 [01:34<1:49:21,  3.64s/it]\n"
     ]
    },
    {
     "ename": "KeyboardInterrupt",
     "evalue": "",
     "output_type": "error",
     "traceback": [
      "\u001B[1;31m---------------------------------------------------------------------------\u001B[0m",
      "\u001B[1;31mKeyboardInterrupt\u001B[0m                         Traceback (most recent call last)",
      "\u001B[1;32m~\\AppData\\Local\\Temp/ipykernel_7160/875787497.py\u001B[0m in \u001B[0;36m<module>\u001B[1;34m\u001B[0m\n\u001B[1;32m----> 1\u001B[1;33m \u001B[0mmodel_layer1\u001B[0m\u001B[1;33m.\u001B[0m\u001B[0mtrain\u001B[0m\u001B[1;33m(\u001B[0m\u001B[1;33m)\u001B[0m\u001B[1;33m\u001B[0m\u001B[1;33m\u001B[0m\u001B[0m\n\u001B[0m\u001B[0;32m      2\u001B[0m \u001B[0mmodel_layer1\u001B[0m\u001B[1;33m.\u001B[0m\u001B[0msave_network\u001B[0m\u001B[1;33m(\u001B[0m\u001B[1;34m'Network_Layer1'\u001B[0m\u001B[1;33m)\u001B[0m\u001B[1;33m\u001B[0m\u001B[1;33m\u001B[0m\u001B[0m\n\u001B[0;32m      3\u001B[0m \u001B[0mmodel_layer2\u001B[0m\u001B[1;33m.\u001B[0m\u001B[0mtrain\u001B[0m\u001B[1;33m(\u001B[0m\u001B[1;33m)\u001B[0m\u001B[1;33m\u001B[0m\u001B[1;33m\u001B[0m\u001B[0m\n\u001B[0;32m      4\u001B[0m \u001B[0mmodel_layer2\u001B[0m\u001B[1;33m.\u001B[0m\u001B[0msave_network\u001B[0m\u001B[1;33m(\u001B[0m\u001B[1;34m'Network_Layer2'\u001B[0m\u001B[1;33m)\u001B[0m\u001B[1;33m\u001B[0m\u001B[1;33m\u001B[0m\u001B[0m\n\u001B[0;32m      5\u001B[0m \u001B[0mmodel_layer1_multi\u001B[0m\u001B[1;33m.\u001B[0m\u001B[0mtrain\u001B[0m\u001B[1;33m(\u001B[0m\u001B[1;33m)\u001B[0m\u001B[1;33m\u001B[0m\u001B[1;33m\u001B[0m\u001B[0m\n",
      "\u001B[1;32m~\\.virtualenvs\\MRP1_Models\\lib\\site-packages\\NERDA\\models.py\u001B[0m in \u001B[0;36mtrain\u001B[1;34m(self)\u001B[0m\n\u001B[0;32m    195\u001B[0m             \u001B[0mattributes\u001B[0m \u001B[0mrespectively\u001B[0m \u001B[1;32mas\u001B[0m \u001B[0mside\u001B[0m\u001B[1;33m-\u001B[0m\u001B[0meffects\u001B[0m\u001B[1;33m.\u001B[0m\u001B[1;33m\u001B[0m\u001B[1;33m\u001B[0m\u001B[0m\n\u001B[0;32m    196\u001B[0m         \"\"\"\n\u001B[1;32m--> 197\u001B[1;33m         network, train_losses, valid_loss = train_model(network = self.network,\n\u001B[0m\u001B[0;32m    198\u001B[0m                                                         \u001B[0mtag_encoder\u001B[0m \u001B[1;33m=\u001B[0m \u001B[0mself\u001B[0m\u001B[1;33m.\u001B[0m\u001B[0mtag_encoder\u001B[0m\u001B[1;33m,\u001B[0m\u001B[1;33m\u001B[0m\u001B[1;33m\u001B[0m\u001B[0m\n\u001B[0;32m    199\u001B[0m                                                         \u001B[0mtag_outside\u001B[0m \u001B[1;33m=\u001B[0m \u001B[0mself\u001B[0m\u001B[1;33m.\u001B[0m\u001B[0mtag_outside\u001B[0m\u001B[1;33m,\u001B[0m\u001B[1;33m\u001B[0m\u001B[1;33m\u001B[0m\u001B[0m\n",
      "\u001B[1;32m~\\.virtualenvs\\MRP1_Models\\lib\\site-packages\\NERDA\\training.py\u001B[0m in \u001B[0;36mtrain_model\u001B[1;34m(network, tag_encoder, tag_outside, transformer_tokenizer, transformer_config, dataset_training, dataset_validation, max_len, train_batch_size, validation_batch_size, epochs, warmup_steps, learning_rate, device, fixed_seed, num_workers)\u001B[0m\n\u001B[0;32m    154\u001B[0m         \u001B[0mprint\u001B[0m\u001B[1;33m(\u001B[0m\u001B[1;34m'\\n Epoch {:} / {:}'\u001B[0m\u001B[1;33m.\u001B[0m\u001B[0mformat\u001B[0m\u001B[1;33m(\u001B[0m\u001B[0mepoch\u001B[0m \u001B[1;33m+\u001B[0m \u001B[1;36m1\u001B[0m\u001B[1;33m,\u001B[0m \u001B[0mepochs\u001B[0m\u001B[1;33m)\u001B[0m\u001B[1;33m)\u001B[0m\u001B[1;33m\u001B[0m\u001B[1;33m\u001B[0m\u001B[0m\n\u001B[0;32m    155\u001B[0m \u001B[1;33m\u001B[0m\u001B[0m\n\u001B[1;32m--> 156\u001B[1;33m         \u001B[0mtrain_loss\u001B[0m \u001B[1;33m=\u001B[0m \u001B[0mtrain\u001B[0m\u001B[1;33m(\u001B[0m\u001B[0mnetwork\u001B[0m\u001B[1;33m,\u001B[0m \u001B[0mdl_train\u001B[0m\u001B[1;33m,\u001B[0m \u001B[0moptimizer\u001B[0m\u001B[1;33m,\u001B[0m \u001B[0mdevice\u001B[0m\u001B[1;33m,\u001B[0m \u001B[0mscheduler\u001B[0m\u001B[1;33m,\u001B[0m \u001B[0mn_tags\u001B[0m\u001B[1;33m)\u001B[0m\u001B[1;33m\u001B[0m\u001B[1;33m\u001B[0m\u001B[0m\n\u001B[0m\u001B[0;32m    157\u001B[0m         \u001B[0mtrain_losses\u001B[0m\u001B[1;33m.\u001B[0m\u001B[0mappend\u001B[0m\u001B[1;33m(\u001B[0m\u001B[0mtrain_loss\u001B[0m\u001B[1;33m)\u001B[0m\u001B[1;33m\u001B[0m\u001B[1;33m\u001B[0m\u001B[0m\n\u001B[0;32m    158\u001B[0m         \u001B[0mvalid_loss\u001B[0m \u001B[1;33m=\u001B[0m \u001B[0mvalidate\u001B[0m\u001B[1;33m(\u001B[0m\u001B[0mnetwork\u001B[0m\u001B[1;33m,\u001B[0m \u001B[0mdl_validate\u001B[0m\u001B[1;33m,\u001B[0m \u001B[0mdevice\u001B[0m\u001B[1;33m,\u001B[0m \u001B[0mn_tags\u001B[0m\u001B[1;33m)\u001B[0m\u001B[1;33m\u001B[0m\u001B[1;33m\u001B[0m\u001B[0m\n",
      "\u001B[1;32m~\\.virtualenvs\\MRP1_Models\\lib\\site-packages\\NERDA\\training.py\u001B[0m in \u001B[0;36mtrain\u001B[1;34m(model, data_loader, optimizer, device, scheduler, n_tags)\u001B[0m\n\u001B[0;32m     22\u001B[0m                             \u001B[0mdevice\u001B[0m\u001B[1;33m,\u001B[0m\u001B[1;33m\u001B[0m\u001B[1;33m\u001B[0m\u001B[0m\n\u001B[0;32m     23\u001B[0m                             n_tags)\n\u001B[1;32m---> 24\u001B[1;33m         \u001B[0mloss\u001B[0m\u001B[1;33m.\u001B[0m\u001B[0mbackward\u001B[0m\u001B[1;33m(\u001B[0m\u001B[1;33m)\u001B[0m\u001B[1;33m\u001B[0m\u001B[1;33m\u001B[0m\u001B[0m\n\u001B[0m\u001B[0;32m     25\u001B[0m         \u001B[0moptimizer\u001B[0m\u001B[1;33m.\u001B[0m\u001B[0mstep\u001B[0m\u001B[1;33m(\u001B[0m\u001B[1;33m)\u001B[0m\u001B[1;33m\u001B[0m\u001B[1;33m\u001B[0m\u001B[0m\n\u001B[0;32m     26\u001B[0m         \u001B[0mscheduler\u001B[0m\u001B[1;33m.\u001B[0m\u001B[0mstep\u001B[0m\u001B[1;33m(\u001B[0m\u001B[1;33m)\u001B[0m\u001B[1;33m\u001B[0m\u001B[1;33m\u001B[0m\u001B[0m\n",
      "\u001B[1;32m~\\.virtualenvs\\MRP1_Models\\lib\\site-packages\\torch\\_tensor.py\u001B[0m in \u001B[0;36mbackward\u001B[1;34m(self, gradient, retain_graph, create_graph, inputs)\u001B[0m\n\u001B[0;32m    305\u001B[0m                 \u001B[0mcreate_graph\u001B[0m\u001B[1;33m=\u001B[0m\u001B[0mcreate_graph\u001B[0m\u001B[1;33m,\u001B[0m\u001B[1;33m\u001B[0m\u001B[1;33m\u001B[0m\u001B[0m\n\u001B[0;32m    306\u001B[0m                 inputs=inputs)\n\u001B[1;32m--> 307\u001B[1;33m         \u001B[0mtorch\u001B[0m\u001B[1;33m.\u001B[0m\u001B[0mautograd\u001B[0m\u001B[1;33m.\u001B[0m\u001B[0mbackward\u001B[0m\u001B[1;33m(\u001B[0m\u001B[0mself\u001B[0m\u001B[1;33m,\u001B[0m \u001B[0mgradient\u001B[0m\u001B[1;33m,\u001B[0m \u001B[0mretain_graph\u001B[0m\u001B[1;33m,\u001B[0m \u001B[0mcreate_graph\u001B[0m\u001B[1;33m,\u001B[0m \u001B[0minputs\u001B[0m\u001B[1;33m=\u001B[0m\u001B[0minputs\u001B[0m\u001B[1;33m)\u001B[0m\u001B[1;33m\u001B[0m\u001B[1;33m\u001B[0m\u001B[0m\n\u001B[0m\u001B[0;32m    308\u001B[0m \u001B[1;33m\u001B[0m\u001B[0m\n\u001B[0;32m    309\u001B[0m     \u001B[1;32mdef\u001B[0m \u001B[0mregister_hook\u001B[0m\u001B[1;33m(\u001B[0m\u001B[0mself\u001B[0m\u001B[1;33m,\u001B[0m \u001B[0mhook\u001B[0m\u001B[1;33m)\u001B[0m\u001B[1;33m:\u001B[0m\u001B[1;33m\u001B[0m\u001B[1;33m\u001B[0m\u001B[0m\n",
      "\u001B[1;32m~\\.virtualenvs\\MRP1_Models\\lib\\site-packages\\torch\\autograd\\__init__.py\u001B[0m in \u001B[0;36mbackward\u001B[1;34m(tensors, grad_tensors, retain_graph, create_graph, grad_variables, inputs)\u001B[0m\n\u001B[0;32m    152\u001B[0m         \u001B[0mretain_graph\u001B[0m \u001B[1;33m=\u001B[0m \u001B[0mcreate_graph\u001B[0m\u001B[1;33m\u001B[0m\u001B[1;33m\u001B[0m\u001B[0m\n\u001B[0;32m    153\u001B[0m \u001B[1;33m\u001B[0m\u001B[0m\n\u001B[1;32m--> 154\u001B[1;33m     Variable._execution_engine.run_backward(\n\u001B[0m\u001B[0;32m    155\u001B[0m         \u001B[0mtensors\u001B[0m\u001B[1;33m,\u001B[0m \u001B[0mgrad_tensors_\u001B[0m\u001B[1;33m,\u001B[0m \u001B[0mretain_graph\u001B[0m\u001B[1;33m,\u001B[0m \u001B[0mcreate_graph\u001B[0m\u001B[1;33m,\u001B[0m \u001B[0minputs\u001B[0m\u001B[1;33m,\u001B[0m\u001B[1;33m\u001B[0m\u001B[1;33m\u001B[0m\u001B[0m\n\u001B[0;32m    156\u001B[0m         allow_unreachable=True, accumulate_grad=True)  # allow_unreachable flag\n",
      "\u001B[1;31mKeyboardInterrupt\u001B[0m: "
     ]
    }
   ],
   "source": [
    "model_layer1.train()\n",
    "model_layer1.save_network('Network_Layer1')\n",
    "model_layer2.train()\n",
    "model_layer2.save_network('Network_Layer2')\n",
    "model_layer1_multi.train()\n",
    "model_layer1_multi.save_network('Network_Layer1_Multi')\n",
    "model_layer2_multi.train()\n",
    "model_layer2_multi.save_network('Network_Layer2_Multi')"
   ],
   "metadata": {
    "collapsed": false,
    "pycharm": {
     "name": "#%%\n"
    }
   }
  },
  {
   "cell_type": "code",
   "execution_count": 65,
   "outputs": [
    {
     "data": {
      "text/plain": "'Weights for network loaded from ./Network_Layer2_Multi'"
     },
     "execution_count": 65,
     "metadata": {},
     "output_type": "execute_result"
    }
   ],
   "source": [
    "model_layer1.load_network_from_file('./Network_Layer1')\n",
    "model_layer2.load_network_from_file('./Network_Layer2')\n",
    "model_layer1_multi.load_network_from_file('./Network_Layer1_Multi')\n",
    "model_layer2_multi.load_network_from_file('./Network_Layer2_Multi')"
   ],
   "metadata": {
    "collapsed": false,
    "pycharm": {
     "name": "#%%\n"
    }
   }
  },
  {
   "cell_type": "code",
   "execution_count": 87,
   "outputs": [],
   "source": [
    "per_1 = model_layer1.evaluate_performance(testing_dict_layer1)\n",
    "per_2 = model_layer2.evaluate_performance(testing_dict_layer2)\n",
    "per_1_multi = model_layer1_multi.evaluate_performance(testing_dict_layer1)\n",
    "per_2_multi = model_layer2_multi.evaluate_performance(testing_dict_layer2)"
   ],
   "metadata": {
    "collapsed": false,
    "pycharm": {
     "name": "#%%\n"
    }
   }
  },
  {
   "cell_type": "code",
   "execution_count": 155,
   "outputs": [
    {
     "name": "stdout",
     "output_type": "stream",
     "text": [
      "{0: 'no skill', 1: 'business administration', 2: 'education, sales and marketing', 3: 'engineering, construction and transport', 4: 'information technology', 5: 'health and social care', 6: 'science and research', 7: 'Communication', 8: 'Time management', 9: 'Decision making', 10: 'Optimism', 11: 'Coaching', 12: 'Initiative', 13: 'Social skills', 14: 'Creativity', 15: 'Leadership', 16: 'Self-confidence', 17: 'Enthusiasm', 18: 'Teamwork', 19: 'Goal', 20: 'Critical thinking', 21: 'Flexibility', 22: 'Integrity', 23: 'Hospitality', 24: 'Conflict management', 25: 'Ethic', 26: 'Negotiation', 27: 'Adaptive', 28: 'Active listening', 29: 'Presentation', 30: 'Problem solving', 31: 'Emotional intelligence', 32: 'Argumentation', 33: 'Persuasion', 34: 'Mentoring', 35: 'Writing', 36: 'Decision', 37: 'Accountability', 38: 'Detail', 39: 'Strategic thinking'}\n",
      "{0: 'no skill', 1: 'finance', 2: 'marketing', 3: 'construction, maintenance and transport', 4: 'software engineering', 5: 'logistics', 6: 'design', 7: 'administration and law', 8: 'pr and journalism', 9: 'healthcare administration', 10: 'civil engineering and design', 11: 'primary care', 12: 'education, languages and art', 13: 'sales', 14: 'mechanical and electrical engineering', 15: 'accounting', 16: 'it systems and support', 17: 'caregiving and rehabilitation', 18: 'business intelligence and it systems design', 19: 'cardiovascular and respiratory healthcare', 20: 'management and hr', 21: 'physics, math, tomography and structural biology', 22: 'energy and environmental management', 23: 'it security', 24: 'research methods', 25: 'Communication', 26: 'Time management', 27: 'Decision making', 28: 'Optimism', 29: 'Initiative', 30: 'Coaching', 31: 'Social skills', 32: 'Creativity', 33: 'Enthusiasm', 34: 'Teamwork', 35: 'Goal', 36: 'Critical thinking', 37: 'Flexibility', 38: 'Hospitality', 39: 'Conflict management', 40: 'Ethic', 41: 'Adaptive', 42: 'Leadership', 43: 'Active listening', 44: 'Self-confidence', 45: 'Presentation', 46: 'Problem solving', 47: 'Integrity', 48: 'Negotiation', 49: 'Emotional intelligence', 50: 'Writing', 51: 'Decision', 52: 'Accountability', 53: 'Detail', 54: 'Strategic thinking', 55: 'Argumentation'}\n"
     ]
    }
   ],
   "source": [
    "data_layer1_ddict = {value:key for key, value in data_layer1_ddict.items()}\n",
    "data_layer2_ddict = {value:key for key, value in data_layer2_ddict.items()}\n",
    "print(data_layer1_ddict)\n",
    "print(data_layer2_ddict)"
   ],
   "metadata": {
    "collapsed": false,
    "pycharm": {
     "name": "#%%\n"
    }
   }
  },
  {
   "cell_type": "code",
   "execution_count": 118,
   "outputs": [],
   "source": [
    "per_1_copy = per_1.copy()\n",
    "per_2_copy = per_2.copy()\n",
    "per_1_multi_copy = per_1_multi.copy()\n",
    "per_2_multi_copy = per_2_multi.copy()"
   ],
   "metadata": {
    "collapsed": false,
    "pycharm": {
     "name": "#%%\n"
    }
   }
  },
  {
   "cell_type": "code",
   "execution_count": null,
   "outputs": [],
   "source": [],
   "metadata": {
    "collapsed": false,
    "pycharm": {
     "name": "#%%\n"
    }
   }
  },
  {
   "cell_type": "code",
   "execution_count": 114,
   "outputs": [
    {
     "name": "stdout",
     "output_type": "stream",
     "text": [
      "0    AVG_MICRO\n",
      "0    AVG_MICRO\n",
      "Name: Level, dtype: object\n",
      "        Level  F1-Score  Precision    Recall\n",
      "0           1  0.805085   0.760000  0.855856\n",
      "1           2  0.884885   0.873518  0.896552\n",
      "2           3  0.747664   0.714286  0.784314\n",
      "3           4  0.867841   0.904856  0.833736\n",
      "4           5  0.821782   0.855670  0.790476\n",
      "5           6  0.586207   0.708333  0.500000\n",
      "6           7  0.941748   0.932692  0.950980\n",
      "7           8  0.898204   0.842697  0.961538\n",
      "8           9  0.846154   0.814815  0.880000\n",
      "9          10  0.866995   0.846154  0.888889\n",
      "10         11  0.833333   0.769231  0.909091\n",
      "11         12  0.580645   0.900000  0.428571\n",
      "12         13  0.846512   0.928571  0.777778\n",
      "13         14  0.835341   0.764706  0.920354\n",
      "14         15  0.772908   0.782258  0.763780\n",
      "15         16  0.825397   1.000000  0.702703\n",
      "16         17  0.898551   0.892086  0.905109\n",
      "17         18  0.948276   0.948276  0.948276\n",
      "18         19  0.831169   0.820513  0.842105\n",
      "19         20  0.560000   0.466667  0.700000\n",
      "20         21  0.727273   0.666667  0.800000\n",
      "21         22  0.711111   0.695652  0.727273\n",
      "22         23  1.000000   1.000000  1.000000\n",
      "23         24  0.915888   0.899083  0.933333\n",
      "24         25  0.867925   0.851852  0.884615\n",
      "25         26  0.945455   0.896552  1.000000\n",
      "26         27  0.823529   0.840000  0.807692\n",
      "27         28  0.666667   1.000000  0.500000\n",
      "28         29  0.885714   0.885714  0.885714\n",
      "29         30  0.584906   0.543860  0.632653\n",
      "30         31  0.925926   0.862069  1.000000\n",
      "31         32  0.923077   1.000000  0.857143\n",
      "32         33  1.000000   1.000000  1.000000\n",
      "33         34  0.923077   1.000000  0.857143\n",
      "34         35  0.857143   0.804878  0.916667\n",
      "35         36  0.971429   0.944444  1.000000\n",
      "36         37  0.857143   0.900000  0.818182\n",
      "37         38  0.923077   0.947368  0.900000\n",
      "38         39  0.000000   0.000000  0.000000\n",
      "0   AVG_MICRO  0.860141        NaN       NaN\n",
      "0   AVG_MICRO  0.813027        NaN       NaN\n"
     ]
    },
    {
     "name": "stderr",
     "output_type": "stream",
     "text": [
      "C:\\Users\\99mor\\AppData\\Local\\Temp/ipykernel_7160/1357379877.py:2: SettingWithCopyWarning: \n",
      "A value is trying to be set on a copy of a slice from a DataFrame\n",
      "\n",
      "See the caveats in the documentation: https://pandas.pydata.org/pandas-docs/stable/user_guide/indexing.html#returning-a-view-versus-a-copy\n",
      "  per_1_copy['Level'][-2:] = 'AVG_MICRO'\n"
     ]
    }
   ],
   "source": [
    " print(per_1_copy['Level'][-2:])\n",
    "per_1_copy['Level'][-2:] = 'AVG_MICRO'\n",
    "print(per_1_copy)"
   ],
   "metadata": {
    "collapsed": false,
    "pycharm": {
     "name": "#%%\n"
    }
   }
  },
  {
   "cell_type": "code",
   "execution_count": 119,
   "outputs": [
    {
     "name": "stderr",
     "output_type": "stream",
     "text": [
      "C:\\Users\\99mor\\AppData\\Local\\Temp/ipykernel_7160/1890729708.py:6: SettingWithCopyWarning: \n",
      "A value is trying to be set on a copy of a slice from a DataFrame\n",
      "\n",
      "See the caveats in the documentation: https://pandas.pydata.org/pandas-docs/stable/user_guide/indexing.html#returning-a-view-versus-a-copy\n",
      "  per_1_copy['Level'][-2:] = 'AVG_MICRO'\n",
      "C:\\Users\\99mor\\AppData\\Local\\Temp/ipykernel_7160/1890729708.py:7: SettingWithCopyWarning: \n",
      "A value is trying to be set on a copy of a slice from a DataFrame\n",
      "\n",
      "See the caveats in the documentation: https://pandas.pydata.org/pandas-docs/stable/user_guide/indexing.html#returning-a-view-versus-a-copy\n",
      "  per_2_copy['Level'][-2:] = 'AVG_MICRO'\n",
      "C:\\Users\\99mor\\AppData\\Local\\Temp/ipykernel_7160/1890729708.py:8: SettingWithCopyWarning: \n",
      "A value is trying to be set on a copy of a slice from a DataFrame\n",
      "\n",
      "See the caveats in the documentation: https://pandas.pydata.org/pandas-docs/stable/user_guide/indexing.html#returning-a-view-versus-a-copy\n",
      "  per_1_multi_copy['Level'][-2:] = 'AVG_MICRO'\n",
      "C:\\Users\\99mor\\AppData\\Local\\Temp/ipykernel_7160/1890729708.py:9: SettingWithCopyWarning: \n",
      "A value is trying to be set on a copy of a slice from a DataFrame\n",
      "\n",
      "See the caveats in the documentation: https://pandas.pydata.org/pandas-docs/stable/user_guide/indexing.html#returning-a-view-versus-a-copy\n",
      "  per_2_multi_copy['Level'][-2:] = 'AVG_MICRO'\n"
     ]
    }
   ],
   "source": [
    "per_1_copy['Level'] = per_1_copy['Level'][:-2].map(lambda x: data_layer1_ddict[x])\n",
    "per_2_copy['Level'] = per_2_copy['Level'][:-2].map(lambda x: data_layer2_ddict[x])\n",
    "per_1_multi_copy['Level'] = per_1_multi_copy['Level'][:-2].map(lambda x: data_layer1_ddict[x])\n",
    "per_2_multi_copy['Level'] = per_2_multi_copy['Level'][:-2].map(lambda x: data_layer2_ddict[x])\n",
    "\n",
    "per_1_copy['Level'][-2:] = 'AVG_MICRO'\n",
    "per_2_copy['Level'][-2:] = 'AVG_MICRO'\n",
    "per_1_multi_copy['Level'][-2:] = 'AVG_MICRO'\n",
    "per_2_multi_copy['Level'][-2:] = 'AVG_MICRO'\n"
   ],
   "metadata": {
    "collapsed": false,
    "pycharm": {
     "name": "#%%\n"
    }
   }
  },
  {
   "cell_type": "code",
   "execution_count": 121,
   "outputs": [
    {
     "name": "stdout",
     "output_type": "stream",
     "text": [
      "Layer 1 Results\n",
      "                                      Level  F1-Score  Precision    Recall\n",
      "0                   business administration  0.805085   0.760000  0.855856\n",
      "1            education, sales and marketing  0.884885   0.873518  0.896552\n",
      "2   engineering, construction and transport  0.747664   0.714286  0.784314\n",
      "3                    information technology  0.867841   0.904856  0.833736\n",
      "4                    health and social care  0.821782   0.855670  0.790476\n",
      "5                      science and research  0.586207   0.708333  0.500000\n",
      "6                             Communication  0.941748   0.932692  0.950980\n",
      "7                           Time management  0.898204   0.842697  0.961538\n",
      "8                           Decision making  0.846154   0.814815  0.880000\n",
      "9                                  Optimism  0.866995   0.846154  0.888889\n",
      "10                                 Coaching  0.833333   0.769231  0.909091\n",
      "11                               Initiative  0.580645   0.900000  0.428571\n",
      "12                            Social skills  0.846512   0.928571  0.777778\n",
      "13                               Creativity  0.835341   0.764706  0.920354\n",
      "14                               Leadership  0.772908   0.782258  0.763780\n",
      "15                          Self-confidence  0.825397   1.000000  0.702703\n",
      "16                               Enthusiasm  0.898551   0.892086  0.905109\n",
      "17                                 Teamwork  0.948276   0.948276  0.948276\n",
      "18                                     Goal  0.831169   0.820513  0.842105\n",
      "19                        Critical thinking  0.560000   0.466667  0.700000\n",
      "20                              Flexibility  0.727273   0.666667  0.800000\n",
      "21                                Integrity  0.711111   0.695652  0.727273\n",
      "22                              Hospitality  1.000000   1.000000  1.000000\n",
      "23                      Conflict management  0.915888   0.899083  0.933333\n",
      "24                                    Ethic  0.867925   0.851852  0.884615\n",
      "25                              Negotiation  0.945455   0.896552  1.000000\n",
      "26                                 Adaptive  0.823529   0.840000  0.807692\n",
      "27                         Active listening  0.666667   1.000000  0.500000\n",
      "28                             Presentation  0.885714   0.885714  0.885714\n",
      "29                          Problem solving  0.584906   0.543860  0.632653\n",
      "30                   Emotional intelligence  0.925926   0.862069  1.000000\n",
      "31                            Argumentation  0.923077   1.000000  0.857143\n",
      "32                               Persuasion  1.000000   1.000000  1.000000\n",
      "33                                Mentoring  0.923077   1.000000  0.857143\n",
      "34                                  Writing  0.857143   0.804878  0.916667\n",
      "35                                 Decision  0.971429   0.944444  1.000000\n",
      "36                           Accountability  0.857143   0.900000  0.818182\n",
      "37                                   Detail  0.923077   0.947368  0.900000\n",
      "38                       Strategic thinking  0.000000   0.000000  0.000000\n",
      "0                                 AVG_MICRO  0.860141        NaN       NaN\n",
      "0                                 AVG_MICRO  0.813027        NaN       NaN\n"
     ]
    }
   ],
   "source": [
    "print('Layer 1 Results')\n",
    "print(per_1_copy)\n"
   ],
   "metadata": {
    "collapsed": false,
    "pycharm": {
     "name": "#%%\n"
    }
   }
  },
  {
   "cell_type": "code",
   "execution_count": 122,
   "outputs": [
    {
     "name": "stdout",
     "output_type": "stream",
     "text": [
      "Layer 2 Results\n",
      "                                               Level  F1-Score  Precision  \\\n",
      "0                                            finance  0.740331   0.690722   \n",
      "1                                          marketing  0.820253   0.771429   \n",
      "2            construction, maintenance and transport  0.666667   0.666667   \n",
      "3                               software engineering  0.873463   0.894535   \n",
      "4                                          logistics  0.801980   0.771429   \n",
      "5                                             design  0.894737   0.873288   \n",
      "6                             administration and law  0.776119   0.764706   \n",
      "7                                  pr and journalism  0.885496   0.828571   \n",
      "8                          healthcare administration  0.842105   0.888889   \n",
      "9                       civil engineering and design  0.730769   0.703704   \n",
      "10                                      primary care  0.625000   0.625000   \n",
      "11                      education, languages and art  0.901288   0.921053   \n",
      "12                                             sales  0.933110   0.914754   \n",
      "13             mechanical and electrical engineering  0.732984   0.760870   \n",
      "14                                        accounting  0.834586   0.798561   \n",
      "15                            it systems and support  0.830435   0.845133   \n",
      "16                     caregiving and rehabilitation  0.540541   0.526316   \n",
      "17       business intelligence and it systems design  0.875000   0.858065   \n",
      "18         cardiovascular and respiratory healthcare  0.666667   0.600000   \n",
      "19                                 management and hr  0.707547   0.641026   \n",
      "20  physics, math, tomography and structural biology  0.571429   1.000000   \n",
      "21               energy and environmental management  0.588235   1.000000   \n",
      "22                                       it security  0.960000   1.000000   \n",
      "23                                  research methods  0.461538   1.000000   \n",
      "24                                     Communication  0.913580   0.850575   \n",
      "25                                   Time management  0.803419   0.810345   \n",
      "26                                   Decision making  0.877193   0.925926   \n",
      "27                                          Optimism  0.926316   0.916667   \n",
      "28                                        Initiative  0.952381   1.000000   \n",
      "29                                          Coaching  0.588235   1.000000   \n",
      "30                                     Social skills  0.881356   0.857143   \n",
      "31                                        Creativity  0.796875   0.850000   \n",
      "32                                        Enthusiasm  0.883929   0.818182   \n",
      "33                                          Teamwork  0.911765   0.939394   \n",
      "34                                              Goal  0.956522   0.936170   \n",
      "35                                 Critical thinking  0.875000   0.777778   \n",
      "36                                       Flexibility  0.666667   1.000000   \n",
      "37                                       Hospitality  0.571429   0.666667   \n",
      "38                               Conflict management  0.893333   0.837500   \n",
      "39                                             Ethic  0.869565   0.952381   \n",
      "40                                          Adaptive  0.679612   0.945946   \n",
      "41                                        Leadership  0.725490   0.691589   \n",
      "42                                  Active listening  0.787879   0.722222   \n",
      "43                                   Self-confidence  0.780488   0.727273   \n",
      "44                                      Presentation  0.853333   0.888889   \n",
      "45                                   Problem solving  0.716418   0.648649   \n",
      "46                                         Integrity  0.666667   0.608696   \n",
      "47                                       Negotiation  0.891892   0.846154   \n",
      "48                            Emotional intelligence  0.903226   0.933333   \n",
      "49                                           Writing  0.849315   0.756098   \n",
      "50                                          Decision  0.761905   0.888889   \n",
      "51                                    Accountability  0.857143   0.857143   \n",
      "52                                            Detail  0.903226   1.000000   \n",
      "53                                Strategic thinking  0.709677   0.611111   \n",
      "54                                     Argumentation  0.800000   0.666667   \n",
      "0                                          AVG_MICRO  0.851767        NaN   \n",
      "0                                          AVG_MICRO  0.791166        NaN   \n",
      "\n",
      "      Recall  \n",
      "0   0.797619  \n",
      "1   0.875676  \n",
      "2   0.666667  \n",
      "3   0.853360  \n",
      "4   0.835052  \n",
      "5   0.917266  \n",
      "6   0.787879  \n",
      "7   0.950820  \n",
      "8   0.800000  \n",
      "9   0.760000  \n",
      "10  0.625000  \n",
      "11  0.882353  \n",
      "12  0.952218  \n",
      "13  0.707071  \n",
      "14  0.874016  \n",
      "15  0.816239  \n",
      "16  0.555556  \n",
      "17  0.892617  \n",
      "18  0.750000  \n",
      "19  0.789474  \n",
      "20  0.400000  \n",
      "21  0.416667  \n",
      "22  0.923077  \n",
      "23  0.300000  \n",
      "24  0.986667  \n",
      "25  0.796610  \n",
      "26  0.833333  \n",
      "27  0.936170  \n",
      "28  0.909091  \n",
      "29  0.416667  \n",
      "30  0.906977  \n",
      "31  0.750000  \n",
      "32  0.961165  \n",
      "33  0.885714  \n",
      "34  0.977778  \n",
      "35  1.000000  \n",
      "36  0.500000  \n",
      "37  0.500000  \n",
      "38  0.957143  \n",
      "39  0.800000  \n",
      "40  0.530303  \n",
      "41  0.762887  \n",
      "42  0.866667  \n",
      "43  0.842105  \n",
      "44  0.820513  \n",
      "45  0.800000  \n",
      "46  0.736842  \n",
      "47  0.942857  \n",
      "48  0.875000  \n",
      "49  0.968750  \n",
      "50  0.666667  \n",
      "51  0.857143  \n",
      "52  0.823529  \n",
      "53  0.846154  \n",
      "54  1.000000  \n",
      "0        NaN  \n",
      "0        NaN  \n"
     ]
    }
   ],
   "source": [
    "print('Layer 2 Results')\n",
    "print(per_2_copy)"
   ],
   "metadata": {
    "collapsed": false,
    "pycharm": {
     "name": "#%%\n"
    }
   }
  },
  {
   "cell_type": "code",
   "execution_count": 123,
   "outputs": [
    {
     "name": "stdout",
     "output_type": "stream",
     "text": [
      "Layer 1 Results Multi Lang Bert\n",
      "                                      Level  F1-Score  Precision    Recall\n",
      "0                   business administration  0.798722   0.757576  0.844595\n",
      "1            education, sales and marketing  0.885336   0.872477  0.898580\n",
      "2   engineering, construction and transport  0.754177   0.734884  0.774510\n",
      "3                    information technology  0.873418   0.892429  0.855200\n",
      "4                    health and social care  0.787879   0.838710  0.742857\n",
      "5                      science and research  0.562500   0.600000  0.529412\n",
      "6                             Communication  0.950495   0.960000  0.941176\n",
      "7                           Time management  0.892857   0.833333  0.961538\n",
      "8                           Decision making  0.808511   0.863636  0.760000\n",
      "9                                  Optimism  0.825688   0.756303  0.909091\n",
      "10                                 Coaching  0.714286   0.750000  0.681818\n",
      "11                               Initiative  0.791667   0.703704  0.904762\n",
      "12                            Social skills  0.770732   0.897727  0.675214\n",
      "13                               Creativity  0.880658   0.823077  0.946903\n",
      "14                               Leadership  0.767442   0.755725  0.779528\n",
      "15                          Self-confidence  0.878788   1.000000  0.783784\n",
      "16                               Enthusiasm  0.885017   0.846667  0.927007\n",
      "17                                 Teamwork  0.929825   0.946429  0.913793\n",
      "18                                     Goal  0.864865   0.888889  0.842105\n",
      "19                        Critical thinking  0.727273   0.666667  0.800000\n",
      "20                              Flexibility  0.888889   1.000000  0.800000\n",
      "21                                Integrity  0.705882   0.620690  0.818182\n",
      "22                              Hospitality  1.000000   1.000000  1.000000\n",
      "23                      Conflict management  0.920188   0.907407  0.933333\n",
      "24                                    Ethic  0.875000   0.954545  0.807692\n",
      "25                              Negotiation  0.928571   0.866667  1.000000\n",
      "26                                 Adaptive  0.842640   0.892473  0.798077\n",
      "27                         Active listening  0.625000   0.833333  0.500000\n",
      "28                             Presentation  0.895522   0.937500  0.857143\n",
      "29                          Problem solving  0.554455   0.538462  0.571429\n",
      "30                   Emotional intelligence  0.943396   0.892857  1.000000\n",
      "31                            Argumentation  0.814815   0.846154  0.785714\n",
      "32                               Persuasion  1.000000   1.000000  1.000000\n",
      "33                                Mentoring  0.923077   1.000000  0.857143\n",
      "34                                  Writing  0.800000   0.769231  0.833333\n",
      "35                                 Decision  0.888889   0.842105  0.941176\n",
      "36                           Accountability  0.900000   1.000000  0.818182\n",
      "37                                   Detail  0.864865   0.941176  0.800000\n",
      "38                       Strategic thinking  0.000000   0.000000  0.000000\n",
      "0                                 AVG_MICRO  0.860887        NaN       NaN\n",
      "0                                 AVG_MICRO  0.813367        NaN       NaN\n"
     ]
    }
   ],
   "source": [
    "print('Layer 1 Results Multi Lang Bert')\n",
    "print(per_1_multi_copy)"
   ],
   "metadata": {
    "collapsed": false,
    "pycharm": {
     "name": "#%%\n"
    }
   }
  },
  {
   "cell_type": "code",
   "execution_count": 124,
   "outputs": [
    {
     "name": "stdout",
     "output_type": "stream",
     "text": [
      "Layer 2 Results Multi Lang Bert\n",
      "                                               Level  F1-Score  Precision  \\\n",
      "0                                            finance  0.774566   0.752809   \n",
      "1                                          marketing  0.820126   0.767059   \n",
      "2            construction, maintenance and transport  0.626866   0.617647   \n",
      "3                               software engineering  0.880903   0.888199   \n",
      "4                                          logistics  0.796117   0.752294   \n",
      "5                                             design  0.890845   0.872414   \n",
      "6                             administration and law  0.784615   0.796875   \n",
      "7                                  pr and journalism  0.858238   0.805755   \n",
      "8                          healthcare administration  0.526316   0.555556   \n",
      "9                       civil engineering and design  0.763636   0.700000   \n",
      "10                                      primary care  0.666667   0.714286   \n",
      "11                      education, languages and art  0.885246   0.864000   \n",
      "12                                             sales  0.924623   0.907895   \n",
      "13             mechanical and electrical engineering  0.742268   0.757895   \n",
      "14                                        accounting  0.840467   0.830769   \n",
      "15                            it systems and support  0.845133   0.876147   \n",
      "16                     caregiving and rehabilitation  0.387097   0.461538   \n",
      "17       business intelligence and it systems design  0.883117   0.855346   \n",
      "18         cardiovascular and respiratory healthcare  0.615385   0.444444   \n",
      "19                                 management and hr  0.742857   0.678261   \n",
      "20  physics, math, tomography and structural biology  0.461538   1.000000   \n",
      "21               energy and environmental management  0.266667   0.666667   \n",
      "22                                       it security  0.888889   0.857143   \n",
      "23                                  research methods  0.307692   0.666667   \n",
      "24                                     Communication  0.863905   0.776596   \n",
      "25                                   Time management  0.818182   0.882353   \n",
      "26                                   Decision making  0.847458   0.862069   \n",
      "27                                          Optimism  0.864583   0.846939   \n",
      "28                                        Initiative  0.818182   0.818182   \n",
      "29                                          Coaching  0.444444   0.666667   \n",
      "30                                     Social skills  0.869565   0.816327   \n",
      "31                                        Creativity  0.816000   0.894737   \n",
      "32                                        Enthusiasm  0.876712   0.827586   \n",
      "33                                          Teamwork  0.878788   0.935484   \n",
      "34                                              Goal  0.936170   0.897959   \n",
      "35                                 Critical thinking  0.800000   0.750000   \n",
      "36                                       Flexibility  0.250000   0.500000   \n",
      "37                                       Hospitality  0.571429   0.666667   \n",
      "38                               Conflict management  0.918919   0.871795   \n",
      "39                                             Ethic  0.897959   0.916667   \n",
      "40                                          Adaptive  0.641509   0.850000   \n",
      "41                                        Leadership  0.766990   0.724771   \n",
      "42                                  Active listening  0.800000   0.800000   \n",
      "43                                   Self-confidence  0.800000   0.761905   \n",
      "44                                      Presentation  0.878049   0.837209   \n",
      "45                                   Problem solving  0.645161   0.625000   \n",
      "46                                         Integrity  0.700000   0.666667   \n",
      "47                                       Negotiation  0.882353   0.909091   \n",
      "48                            Emotional intelligence  0.756757   0.666667   \n",
      "49                                           Writing  0.833333   0.750000   \n",
      "50                                          Decision  0.636364   0.700000   \n",
      "51                                    Accountability  0.727273   1.000000   \n",
      "52                                            Detail  0.903226   1.000000   \n",
      "53                                Strategic thinking  0.800000   0.833333   \n",
      "54                                     Argumentation  1.000000   1.000000   \n",
      "0                                          AVG_MICRO  0.851408        NaN   \n",
      "0                                          AVG_MICRO  0.753149        NaN   \n",
      "\n",
      "      Recall  \n",
      "0   0.797619  \n",
      "1   0.881081  \n",
      "2   0.636364  \n",
      "3   0.873727  \n",
      "4   0.845361  \n",
      "5   0.910072  \n",
      "6   0.772727  \n",
      "7   0.918033  \n",
      "8   0.500000  \n",
      "9   0.840000  \n",
      "10  0.625000  \n",
      "11  0.907563  \n",
      "12  0.941980  \n",
      "13  0.727273  \n",
      "14  0.850394  \n",
      "15  0.816239  \n",
      "16  0.333333  \n",
      "17  0.912752  \n",
      "18  1.000000  \n",
      "19  0.821053  \n",
      "20  0.300000  \n",
      "21  0.166667  \n",
      "22  0.923077  \n",
      "23  0.200000  \n",
      "24  0.973333  \n",
      "25  0.762712  \n",
      "26  0.833333  \n",
      "27  0.882979  \n",
      "28  0.818182  \n",
      "29  0.333333  \n",
      "30  0.930233  \n",
      "31  0.750000  \n",
      "32  0.932039  \n",
      "33  0.828571  \n",
      "34  0.977778  \n",
      "35  0.857143  \n",
      "36  0.166667  \n",
      "37  0.500000  \n",
      "38  0.971429  \n",
      "39  0.880000  \n",
      "40  0.515152  \n",
      "41  0.814433  \n",
      "42  0.800000  \n",
      "43  0.842105  \n",
      "44  0.923077  \n",
      "45  0.666667  \n",
      "46  0.736842  \n",
      "47  0.857143  \n",
      "48  0.875000  \n",
      "49  0.937500  \n",
      "50  0.583333  \n",
      "51  0.571429  \n",
      "52  0.823529  \n",
      "53  0.769231  \n",
      "54  1.000000  \n",
      "0        NaN  \n",
      "0        NaN  \n"
     ]
    }
   ],
   "source": [
    "print('Layer 2 Results Multi Lang Bert')\n",
    "print(per_2_multi_copy)"
   ],
   "metadata": {
    "collapsed": false,
    "pycharm": {
     "name": "#%%\n"
    }
   }
  },
  {
   "cell_type": "code",
   "execution_count": 126,
   "outputs": [],
   "source": [
    "per_1_copy.to_csv('per_1_results')\n",
    "per_2_copy.to_csv('per_2_results')\n",
    "per_1_multi_copy.to_csv('per_1_multi_results')\n",
    "per_2_multi_copy.to_csv('per_2_multi_results')"
   ],
   "metadata": {
    "collapsed": false,
    "pycharm": {
     "name": "#%%\n"
    }
   }
  },
  {
   "cell_type": "code",
   "execution_count": 127,
   "outputs": [
    {
     "name": "stdout",
     "output_type": "stream",
     "text": [
      "                                      Level  F1-Score  Precision    Recall\n",
      "0                   business administration  0.805085   0.760000  0.855856\n",
      "1            education, sales and marketing  0.884885   0.873518  0.896552\n",
      "2   engineering, construction and transport  0.747664   0.714286  0.784314\n",
      "3                    information technology  0.867841   0.904856  0.833736\n",
      "4                    health and social care  0.821782   0.855670  0.790476\n",
      "5                      science and research  0.586207   0.708333  0.500000\n",
      "6                             Communication  0.941748   0.932692  0.950980\n",
      "7                           Time management  0.898204   0.842697  0.961538\n",
      "8                           Decision making  0.846154   0.814815  0.880000\n",
      "9                                  Optimism  0.866995   0.846154  0.888889\n",
      "10                                 Coaching  0.833333   0.769231  0.909091\n",
      "11                               Initiative  0.580645   0.900000  0.428571\n",
      "12                            Social skills  0.846512   0.928571  0.777778\n",
      "13                               Creativity  0.835341   0.764706  0.920354\n",
      "14                               Leadership  0.772908   0.782258  0.763780\n",
      "15                          Self-confidence  0.825397   1.000000  0.702703\n",
      "16                               Enthusiasm  0.898551   0.892086  0.905109\n",
      "17                                 Teamwork  0.948276   0.948276  0.948276\n",
      "18                                     Goal  0.831169   0.820513  0.842105\n",
      "19                        Critical thinking  0.560000   0.466667  0.700000\n",
      "20                              Flexibility  0.727273   0.666667  0.800000\n",
      "21                                Integrity  0.711111   0.695652  0.727273\n",
      "22                              Hospitality  1.000000   1.000000  1.000000\n",
      "23                      Conflict management  0.915888   0.899083  0.933333\n",
      "24                                    Ethic  0.867925   0.851852  0.884615\n",
      "25                              Negotiation  0.945455   0.896552  1.000000\n",
      "26                                 Adaptive  0.823529   0.840000  0.807692\n",
      "27                         Active listening  0.666667   1.000000  0.500000\n",
      "28                             Presentation  0.885714   0.885714  0.885714\n",
      "29                          Problem solving  0.584906   0.543860  0.632653\n",
      "30                   Emotional intelligence  0.925926   0.862069  1.000000\n",
      "31                            Argumentation  0.923077   1.000000  0.857143\n",
      "32                               Persuasion  1.000000   1.000000  1.000000\n",
      "33                                Mentoring  0.923077   1.000000  0.857143\n",
      "34                                  Writing  0.857143   0.804878  0.916667\n",
      "35                                 Decision  0.971429   0.944444  1.000000\n",
      "36                           Accountability  0.857143   0.900000  0.818182\n",
      "37                                   Detail  0.923077   0.947368  0.900000\n",
      "38                       Strategic thinking  0.000000   0.000000  0.000000\n",
      "0                                 AVG_MICRO  0.860141        NaN       NaN\n",
      "0                                 AVG_MICRO  0.813027        NaN       NaN\n"
     ]
    }
   ],
   "source": [],
   "metadata": {
    "collapsed": false,
    "pycharm": {
     "name": "#%%\n"
    }
   }
  },
  {
   "cell_type": "code",
   "execution_count": 128,
   "outputs": [
    {
     "name": "stderr",
     "output_type": "stream",
     "text": [
      "C:\\Users\\99mor\\AppData\\Local\\Temp/ipykernel_7160/1672018454.py:16: SettingWithCopyWarning: \n",
      "A value is trying to be set on a copy of a slice from a DataFrame\n",
      "\n",
      "See the caveats in the documentation: https://pandas.pydata.org/pandas-docs/stable/user_guide/indexing.html#returning-a-view-versus-a-copy\n",
      "  per_1_deep_copy['Level'][-2:] = 'AVG_MICRO'\n",
      "C:\\Users\\99mor\\AppData\\Local\\Temp/ipykernel_7160/1672018454.py:17: SettingWithCopyWarning: \n",
      "A value is trying to be set on a copy of a slice from a DataFrame\n",
      "\n",
      "See the caveats in the documentation: https://pandas.pydata.org/pandas-docs/stable/user_guide/indexing.html#returning-a-view-versus-a-copy\n",
      "  per_2_deep_copy['Level'][-2:] = 'AVG_MICRO'\n"
     ]
    }
   ],
   "source": [
    "model_layer1.load_network_from_file('Network_Layer1_deep')\n",
    "model_layer2.load_network_from_file('Network_Layer2_deep')\n",
    "\n",
    "per_1_deep = model_layer1.evaluate_performance(testing_dict_layer1)\n",
    "per_2_deep = model_layer2.evaluate_performance(testing_dict_layer2)\n",
    "\n",
    "per_1_deep_copy = per_1_deep.copy()\n",
    "per_2_deep_copy = per_2_deep.copy()\n",
    "\n",
    "per_1_deep_copy['Level'] = per_1_deep_copy['Level'][:-2].map(lambda x: data_layer1_ddict[x])\n",
    "per_2_deep_copy['Level'] = per_2_deep_copy['Level'][:-2].map(lambda x: data_layer2_ddict[x])\n",
    "\n",
    "per_1_deep_copy['Level'][-2:] = 'AVG_MICRO'\n",
    "per_2_deep_copy['Level'][-2:] = 'AVG_MICRO'"
   ],
   "metadata": {
    "collapsed": false,
    "pycharm": {
     "name": "#%%\n"
    }
   }
  },
  {
   "cell_type": "code",
   "execution_count": 129,
   "outputs": [
    {
     "name": "stdout",
     "output_type": "stream",
     "text": [
      "Layer 1 Deep Results \n",
      "                                      Level  F1-Score  Precision    Recall\n",
      "0                   business administration  0.799107   0.792035  0.806306\n",
      "1            education, sales and marketing  0.875346   0.869435  0.881339\n",
      "2   engineering, construction and transport  0.763990   0.758454  0.769608\n",
      "3                    information technology  0.864559   0.873496  0.855804\n",
      "4                    health and social care  0.811881   0.845361  0.780952\n",
      "5                      science and research  0.580645   0.642857  0.529412\n",
      "6                             Communication  0.922330   0.913462  0.931373\n",
      "7                           Time management  0.920245   0.882353  0.961538\n",
      "8                           Decision making  0.897959   0.916667  0.880000\n",
      "9                                  Optimism  0.885714   0.837838  0.939394\n",
      "10                                 Coaching  0.816327   0.740741  0.909091\n",
      "11                               Initiative  0.810811   0.937500  0.714286\n",
      "12                            Social skills  0.838710   0.910000  0.777778\n",
      "13                               Creativity  0.869565   0.854701  0.884956\n",
      "14                               Leadership  0.807692   0.789474  0.826772\n",
      "15                          Self-confidence  0.942857   1.000000  0.891892\n",
      "16                               Enthusiasm  0.891304   0.884892  0.897810\n",
      "17                                 Teamwork  0.955752   0.981818  0.931034\n",
      "18                                     Goal  0.844156   0.833333  0.855263\n",
      "19                        Critical thinking  0.800000   0.666667  1.000000\n",
      "20                              Flexibility  0.800000   0.800000  0.800000\n",
      "21                                Integrity  0.809524   0.850000  0.772727\n",
      "22                              Hospitality  0.666667   0.500000  1.000000\n",
      "23                      Conflict management  0.924528   0.915888  0.933333\n",
      "24                                    Ethic  0.807018   0.741935  0.884615\n",
      "25                              Negotiation  0.945455   0.896552  1.000000\n",
      "26                                 Adaptive  0.835821   0.865979  0.807692\n",
      "27                         Active listening  0.750000   1.000000  0.600000\n",
      "28                             Presentation  0.885714   0.885714  0.885714\n",
      "29                          Problem solving  0.600000   0.588235  0.612245\n",
      "30                   Emotional intelligence  0.862069   0.757576  1.000000\n",
      "31                            Argumentation  0.962963   1.000000  0.928571\n",
      "32                               Persuasion  1.000000   1.000000  1.000000\n",
      "33                                Mentoring  0.962963   1.000000  0.928571\n",
      "34                                  Writing  0.833333   0.833333  0.833333\n",
      "35                                 Decision  0.971429   0.944444  1.000000\n",
      "36                           Accountability  0.761905   0.800000  0.727273\n",
      "37                                   Detail  0.952381   0.909091  1.000000\n",
      "38                       Strategic thinking  0.444444   0.400000  0.500000\n",
      "0                                 AVG_MICRO  0.859633        NaN       NaN\n",
      "0                                 AVG_MICRO  0.837825        NaN       NaN\n"
     ]
    }
   ],
   "source": [
    "print('Layer 1 Deep Results ')\n",
    "print(per_1_deep_copy)"
   ],
   "metadata": {
    "collapsed": false,
    "pycharm": {
     "name": "#%%\n"
    }
   }
  },
  {
   "cell_type": "code",
   "execution_count": 130,
   "outputs": [
    {
     "name": "stdout",
     "output_type": "stream",
     "text": [
      "Layer 2 Deep Results \n",
      "                                               Level  F1-Score  Precision  \\\n",
      "0                                            finance  0.737500   0.776316   \n",
      "1                                          marketing  0.792746   0.761194   \n",
      "2            construction, maintenance and transport  0.636364   0.636364   \n",
      "3                               software engineering  0.863064   0.860965   \n",
      "4                                          logistics  0.772277   0.742857   \n",
      "5                                             design  0.877442   0.866667   \n",
      "6                             administration and law  0.751880   0.746269   \n",
      "7                                  pr and journalism  0.841699   0.795620   \n",
      "8                          healthcare administration  0.666667   0.750000   \n",
      "9                       civil engineering and design  0.701754   0.625000   \n",
      "10                                      primary care  0.705882   0.666667   \n",
      "11                      education, languages and art  0.868085   0.879310   \n",
      "12                                             sales  0.931507   0.934708   \n",
      "13             mechanical and electrical engineering  0.725490   0.704762   \n",
      "14                                        accounting  0.809524   0.816000   \n",
      "15                            it systems and support  0.811404   0.833333   \n",
      "16                     caregiving and rehabilitation  0.486486   0.473684   \n",
      "17       business intelligence and it systems design  0.831081   0.836735   \n",
      "18         cardiovascular and respiratory healthcare  0.857143   1.000000   \n",
      "19                                 management and hr  0.748718   0.730000   \n",
      "20  physics, math, tomography and structural biology  0.666667   1.000000   \n",
      "21               energy and environmental management  0.375000   0.750000   \n",
      "22                                       it security  0.888889   0.857143   \n",
      "23                                  research methods  0.461538   1.000000   \n",
      "24                                     Communication  0.897436   0.864198   \n",
      "25                                   Time management  0.800000   0.821429   \n",
      "26                                   Decision making  0.793651   0.757576   \n",
      "27                                          Optimism  0.900524   0.886598   \n",
      "28                                        Initiative  0.842105   1.000000   \n",
      "29                                          Coaching  0.636364   0.700000   \n",
      "30                                     Social skills  0.911243   0.927711   \n",
      "31                                        Creativity  0.774194   0.857143   \n",
      "32                                        Enthusiasm  0.918660   0.905660   \n",
      "33                                          Teamwork  0.895522   0.937500   \n",
      "34                                              Goal  0.946237   0.916667   \n",
      "35                                 Critical thinking  0.750000   0.666667   \n",
      "36                                       Flexibility  0.500000   1.000000   \n",
      "37                                       Hospitality  0.857143   1.000000   \n",
      "38                               Conflict management  0.875912   0.895522   \n",
      "39                                             Ethic  0.851064   0.909091   \n",
      "40                                          Adaptive  0.648148   0.833333   \n",
      "41                                        Leadership  0.715686   0.682243   \n",
      "42                                  Active listening  0.812500   0.764706   \n",
      "43                                   Self-confidence  0.842105   0.842105   \n",
      "44                                      Presentation  0.821918   0.882353   \n",
      "45                                   Problem solving  0.698413   0.666667   \n",
      "46                                         Integrity  0.700000   0.666667   \n",
      "47                                       Negotiation  0.901408   0.888889   \n",
      "48                            Emotional intelligence  0.666667   0.647059   \n",
      "49                                           Writing  0.840580   0.783784   \n",
      "50                                          Decision  0.736842   1.000000   \n",
      "51                                    Accountability  0.727273   1.000000   \n",
      "52                                            Detail  0.969697   1.000000   \n",
      "53                                Strategic thinking  0.800000   0.833333   \n",
      "54                                     Argumentation  0.888889   0.800000   \n",
      "0                                          AVG_MICRO  0.838244        NaN   \n",
      "0                                          AVG_MICRO  0.776891        NaN   \n",
      "\n",
      "      Recall  \n",
      "0   0.702381  \n",
      "1   0.827027  \n",
      "2   0.636364  \n",
      "3   0.865173  \n",
      "4   0.804124  \n",
      "5   0.888489  \n",
      "6   0.757576  \n",
      "7   0.893443  \n",
      "8   0.600000  \n",
      "9   0.800000  \n",
      "10  0.750000  \n",
      "11  0.857143  \n",
      "12  0.928328  \n",
      "13  0.747475  \n",
      "14  0.803150  \n",
      "15  0.790598  \n",
      "16  0.500000  \n",
      "17  0.825503  \n",
      "18  0.750000  \n",
      "19  0.768421  \n",
      "20  0.500000  \n",
      "21  0.250000  \n",
      "22  0.923077  \n",
      "23  0.300000  \n",
      "24  0.933333  \n",
      "25  0.779661  \n",
      "26  0.833333  \n",
      "27  0.914894  \n",
      "28  0.727273  \n",
      "29  0.583333  \n",
      "30  0.895349  \n",
      "31  0.705882  \n",
      "32  0.932039  \n",
      "33  0.857143  \n",
      "34  0.977778  \n",
      "35  0.857143  \n",
      "36  0.333333  \n",
      "37  0.750000  \n",
      "38  0.857143  \n",
      "39  0.800000  \n",
      "40  0.530303  \n",
      "41  0.752577  \n",
      "42  0.866667  \n",
      "43  0.842105  \n",
      "44  0.769231  \n",
      "45  0.733333  \n",
      "46  0.736842  \n",
      "47  0.914286  \n",
      "48  0.687500  \n",
      "49  0.906250  \n",
      "50  0.583333  \n",
      "51  0.571429  \n",
      "52  0.941176  \n",
      "53  0.769231  \n",
      "54  1.000000  \n",
      "0        NaN  \n",
      "0        NaN  \n"
     ]
    }
   ],
   "source": [
    "print('Layer 2 Deep Results ')\n",
    "print(per_2_deep_copy)"
   ],
   "metadata": {
    "collapsed": false,
    "pycharm": {
     "name": "#%%\n"
    }
   }
  },
  {
   "cell_type": "code",
   "execution_count": 140,
   "outputs": [],
   "source": [
    "import os\n",
    "\n",
    "layer = 'Layer 2'\n",
    "transformer = 'bert-base-uncased'\n",
    "file = '95% pseudolabels - fasttext - layer2 - cleaned'\n",
    "deep = 'deep'\n",
    "\n",
    "if os.path.exists(\"C:/Users/99mor/PycharmProjects/MRP1_Models/Results/\" + layer + \" \" + transformer + \" \" + deep + \".txt\"):\n",
    "    os.remove(\"C:/Users/99mor/PycharmProjects/MRP1_Models/Results/\" + layer + \" \" + transformer + \" \" + deep + \".txt\")\n",
    "with open(\"C:/Users/99mor/PycharmProjects/MRP1_Models/Results/\" + layer + \" \" + transformer + \" \" + deep + \".txt\", 'w') as f:\n",
    "    f.write(f\"Dataset : '{file}'\\n\")\n",
    "    f.write(f\"Labels : {layer}\\n\")\n",
    "    f.write(f\"Transformer : {transformer}\\n\")\n",
    "    f.write(f\"Depth : {deep}\\n\")\n",
    "    f.write(f\"Number of training instances : {len(training_layer2)}\\n\")\n",
    "    f.write(per_2_deep_copy.to_string())"
   ],
   "metadata": {
    "collapsed": false,
    "pycharm": {
     "name": "#%%\n"
    }
   }
  },
  {
   "cell_type": "code",
   "execution_count": null,
   "outputs": [],
   "source": [],
   "metadata": {
    "collapsed": false,
    "pycharm": {
     "name": "#%%\n"
    }
   }
  }
 ],
 "metadata": {
  "kernelspec": {
   "display_name": "Python 3",
   "language": "python",
   "name": "python3"
  },
  "language_info": {
   "codemirror_mode": {
    "name": "ipython",
    "version": 2
   },
   "file_extension": ".py",
   "mimetype": "text/x-python",
   "name": "python",
   "nbconvert_exporter": "python",
   "pygments_lexer": "ipython2",
   "version": "2.7.6"
  }
 },
 "nbformat": 4,
 "nbformat_minor": 0
}