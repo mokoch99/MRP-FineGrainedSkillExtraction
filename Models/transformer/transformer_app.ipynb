{
 "cells": [
  {
   "cell_type": "code",
   "execution_count": 1,
   "outputs": [
    {
     "name": "stdout",
     "output_type": "stream",
     "text": [
      "Device automatically set to: cpu\n"
     ]
    },
    {
     "name": "stderr",
     "output_type": "stream",
     "text": [
      "Some weights of the model checkpoint at bert-base-uncased were not used when initializing BertModel: ['cls.predictions.transform.dense.bias', 'cls.predictions.bias', 'cls.predictions.decoder.weight', 'cls.seq_relationship.bias', 'cls.predictions.transform.LayerNorm.weight', 'cls.predictions.transform.dense.weight', 'cls.predictions.transform.LayerNorm.bias', 'cls.seq_relationship.weight']\n",
      "- This IS expected if you are initializing BertModel from the checkpoint of a model trained on another task or with another architecture (e.g. initializing a BertForSequenceClassification model from a BertForPreTraining model).\n",
      "- This IS NOT expected if you are initializing BertModel from the checkpoint of a model that you expect to be exactly identical (initializing a BertForSequenceClassification model from a BertForSequenceClassification model).\n"
     ]
    },
    {
     "name": "stdout",
     "output_type": "stream",
     "text": [
      "Device automatically set to: cpu\n"
     ]
    },
    {
     "name": "stderr",
     "output_type": "stream",
     "text": [
      "Some weights of the model checkpoint at bert-base-uncased were not used when initializing BertModel: ['cls.predictions.transform.dense.bias', 'cls.predictions.bias', 'cls.predictions.decoder.weight', 'cls.seq_relationship.bias', 'cls.predictions.transform.LayerNorm.weight', 'cls.predictions.transform.dense.weight', 'cls.predictions.transform.LayerNorm.bias', 'cls.seq_relationship.weight']\n",
      "- This IS expected if you are initializing BertModel from the checkpoint of a model trained on another task or with another architecture (e.g. initializing a BertForSequenceClassification model from a BertForPreTraining model).\n",
      "- This IS NOT expected if you are initializing BertModel from the checkpoint of a model that you expect to be exactly identical (initializing a BertForSequenceClassification model from a BertForSequenceClassification model).\n"
     ]
    },
    {
     "data": {
      "text/plain": "'Weights for network loaded from Network_Layer2'"
     },
     "execution_count": 1,
     "metadata": {},
     "output_type": "execute_result"
    }
   ],
   "source": [
    "# Use this cell as an example to load the models\n",
    "from NERDA.models import NERDA\n",
    "\n",
    "# [1,2,3,4,5,6,7,8,9,10,11,12,13,14,15,16,17,18,19,20,21,22,23,24,25,26,27,28,29,30,31,32,33,34,35,36,37,38,39,40,41,42,43,44,45,46,47,48]\n",
    "tag_scheme_layer1 = [1, 2, 3, 4, 5, 6, 7, 8, 9, 10, 11, 12, 13, 14, 15, 16, 17, 18, 19, 20, 21, 22, 23, 24, 25, 26, 27,\n",
    "                     28, 29, 30, 31, 32, 33, 34, 35, 36, 37, 38, 39]\n",
    "tag_scheme_layer2 = [1, 2, 3, 4, 5, 6, 7, 8, 9, 10, 11, 12, 13, 14, 15, 16, 17, 18, 19, 20, 21, 22, 23, 24, 25, 26, 27,\n",
    "                     28, 29, 30, 31, 32, 33, 34, 35, 36, 37, 38, 39, 40, 41, 42, 43, 44, 45, 46, 47, 48, 49, 50, 51, 52,\n",
    "                     53, 54, 55]\n",
    "model_layer1 = NERDA(dataset_training=None,\n",
    "                     dataset_validation=None,\n",
    "                     tag_scheme=tag_scheme_layer1,\n",
    "                     tag_outside='0',\n",
    "                     transformer='bert-base-uncased',\n",
    "                     hyperparameters={'epochs': 3,\n",
    "                                      'warmup_steps': 500,\n",
    "                                      'train_batch_size': 13,\n",
    "                                      'learning_rate': 0.0001}, )\n",
    "\n",
    "model_layer2 = NERDA(dataset_training=None,\n",
    "                     dataset_validation=None,\n",
    "                     tag_scheme=tag_scheme_layer2,\n",
    "                     tag_outside='0',\n",
    "                     transformer='bert-base-uncased',\n",
    "                     hyperparameters={'epochs': 3,\n",
    "                                      'warmup_steps': 500,\n",
    "                                      'train_batch_size': 13,\n",
    "                                      'learning_rate': 0.0001}, )\n",
    "\n",
    "model_layer1.load_network_from_file('Network_Layer1')\n",
    "model_layer2.load_network_from_file('Network_Layer2')\n"
   ],
   "metadata": {
    "collapsed": false,
    "pycharm": {
     "name": "#%%\n"
    }
   }
  },
  {
   "cell_type": "code",
   "execution_count": 41,
   "outputs": [
    {
     "name": "stdout",
     "output_type": "stream",
     "text": [
      "([['Good', 'knowledge', 'of', 'Python', 'and', 'Java', 'and', 'generally', 'Microsoft', 'Office', 'will', 'be', 'appreciated', '.']], ([['0', '0', '0', '0', '0', '0', '0', '0', '0', '0', '0', '0', '0', '0']], [[11.6666259765625, 11.692118644714355, 11.561622619628906, 9.484024047851562, 10.771369934082031, 8.052374839782715, 10.63839054107666, 8.605559349060059, 10.548759460449219, 11.083809852600098, 11.496274948120117, 11.638988494873047, 11.684639930725098, 11.696500778198242]]))\n",
      "([['Good', 'knowledge', 'of', 'Python', 'and', 'Java', 'and', 'generally', 'Microsoft', 'Office', 'will', 'be', 'appreciated', '.']], ([['0', '0', '0', '0', '0', '4', '0', '0', '0', '0', '0', '0', '0', '0']], [[11.926653861999512, 11.847193717956543, 12.02575397491455, 10.115833282470703, 11.366276741027832, 8.605270385742188, 11.0258150100708, 9.192840576171875, 10.393548011779785, 10.950444221496582, 12.068565368652344, 12.07690143585205, 12.034714698791504, 12.028658866882324]]))\n"
     ]
    }
   ],
   "source": [
    "# Example for predicting a sentence. Second parameter means certainty of correct classification is returned\n",
    "predictions_layer1 = model_layer1.predict_text('Good knowledge of Python and Java and generally Microsoft Office will be appreciated.', True)\n",
    "print(predictions_layer1)\n",
    "\n",
    "predictions_layer2 = model_layer2.predict_text('Good knowledge of Python and Java and generally Microsoft Office will be appreciated.', True)\n",
    "print(predictions_layer2)"
   ],
   "metadata": {
    "collapsed": false,
    "pycharm": {
     "name": "#%%\n"
    }
   }
  },
  {
   "cell_type": "code",
   "execution_count": 30,
   "outputs": [
    {
     "name": "stdout",
     "output_type": "stream",
     "text": [
      "['no skill', 'no skill', 'no skill', 'no skill', 'no skill', 'no skill', 'information technology', 'no skill']\n",
      "['no skill', 'no skill', 'no skill', 'no skill', 'no skill', 'no skill', 'software engineering', 'no skill']\n"
     ]
    }
   ],
   "source": [
    "#mapping class ids back\n",
    "\n",
    "skill_dict_layer1 = {0: 'no skill', 1: 'business administration', 2: 'education, sales and marketing', 3: 'engineering, construction and transport', 4: 'information technology', 5: 'health and social care', 6: 'science and research', 7: 'Communication', 8: 'Time management', 9: 'Decision making', 10: 'Optimism', 11: 'Coaching', 12: 'Initiative', 13: 'Social skills', 14: 'Creativity', 15: 'Leadership', 16: 'Self-confidence', 17: 'Enthusiasm', 18: 'Teamwork', 19: 'Goal', 20: 'Critical thinking', 21: 'Flexibility', 22: 'Integrity', 23: 'Hospitality', 24: 'Conflict management', 25: 'Ethic', 26: 'Negotiation', 27: 'Adaptive', 28: 'Active listening', 29: 'Presentation', 30: 'Problem solving', 31: 'Emotional intelligence', 32: 'Argumentation', 33: 'Persuasion', 34: 'Mentoring', 35: 'Writing', 36: 'Decision', 37: 'Accountability', 38: 'Detail', 39: 'Strategic thinking'}\n",
    "\n",
    "skill_dict_layer2 = {0: 'no skill', 1: 'finance', 2: 'marketing', 3: 'construction, maintenance and transport', 4: 'software engineering', 5: 'logistics', 6: 'design', 7: 'administration and law', 8: 'pr and journalism', 9: 'healthcare administration', 10: 'civil engineering and design', 11: 'primary care', 12: 'education, languages and art', 13: 'sales', 14: 'mechanical and electrical engineering', 15: 'accounting', 16: 'it systems and support', 17: 'caregiving and rehabilitation', 18: 'business intelligence and it systems design', 19: 'cardiovascular and respiratory healthcare', 20: 'management and hr', 21: 'physics, math, tomography and structural biology', 22: 'energy and environmental management', 23: 'it security', 24: 'research methods', 25: 'Communication', 26: 'Time management', 27: 'Decision making', 28: 'Optimism', 29: 'Initiative', 30: 'Coaching', 31: 'Social skills', 32: 'Creativity', 33: 'Enthusiasm', 34: 'Teamwork', 35: 'Goal', 36: 'Critical thinking', 37: 'Flexibility', 38: 'Hospitality', 39: 'Conflict management', 40: 'Ethic', 41: 'Adaptive', 42: 'Leadership', 43: 'Active listening', 44: 'Self-confidence', 45: 'Presentation', 46: 'Problem solving', 47: 'Integrity', 48: 'Negotiation', 49: 'Emotional intelligence', 50: 'Writing', 51: 'Decision', 52: 'Accountability', 53: 'Detail', 54: 'Strategic thinking', 55: 'Argumentation'}\n",
    "\n",
    "domain_mapping_layer1 = list(map(lambda x: skill_dict_layer1.get(int(x)), predictions_layer1[1][0][0]))\n",
    "print(domain_mapping_layer1)\n",
    "domain_mapping_layer2 = list(map(lambda x: skill_dict_layer2.get(int(x)), predictions_layer2[1][0][0]))\n",
    "print(domain_mapping_layer2)"
   ],
   "metadata": {
    "collapsed": false,
    "pycharm": {
     "name": "#%%\n"
    }
   }
  },
  {
   "cell_type": "code",
   "execution_count": 38,
   "outputs": [
    {
     "name": "stdout",
     "output_type": "stream",
     "text": [
      "[('python', 'software engineering', (6, 6), 9.569366455078125)]\n"
     ]
    }
   ],
   "source": [
    "def result_transformer(prediction, layer):\n",
    "    #mapping class ids back\n",
    "    skill_dict_layer1 = {0: 'no skill', 1: 'business administration', 2: 'education, sales and marketing', 3: 'engineering, construction and transport', 4: 'information technology', 5: 'health and social care', 6: 'science and research', 7: 'Communication', 8: 'Time management', 9: 'Decision making', 10: 'Optimism', 11: 'Coaching', 12: 'Initiative', 13: 'Social skills', 14: 'Creativity', 15: 'Leadership', 16: 'Self-confidence', 17: 'Enthusiasm', 18: 'Teamwork', 19: 'Goal', 20: 'Critical thinking', 21: 'Flexibility', 22: 'Integrity', 23: 'Hospitality', 24: 'Conflict management', 25: 'Ethic', 26: 'Negotiation', 27: 'Adaptive', 28: 'Active listening', 29: 'Presentation', 30: 'Problem solving', 31: 'Emotional intelligence', 32: 'Argumentation', 33: 'Persuasion', 34: 'Mentoring', 35: 'Writing', 36: 'Decision', 37: 'Accountability', 38: 'Detail', 39: 'Strategic thinking'}\n",
    "\n",
    "    skill_dict_layer2 = {0: 'no skill', 1: 'finance', 2: 'marketing', 3: 'construction, maintenance and transport', 4: 'software engineering', 5: 'logistics', 6: 'design', 7: 'administration and law', 8: 'pr and journalism', 9: 'healthcare administration', 10: 'civil engineering and design', 11: 'primary care', 12: 'education, languages and art', 13: 'sales', 14: 'mechanical and electrical engineering', 15: 'accounting', 16: 'it systems and support', 17: 'caregiving and rehabilitation', 18: 'business intelligence and it systems design', 19: 'cardiovascular and respiratory healthcare', 20: 'management and hr', 21: 'physics, math, tomography and structural biology', 22: 'energy and environmental management', 23: 'it security', 24: 'research methods', 25: 'Communication', 26: 'Time management', 27: 'Decision making', 28: 'Optimism', 29: 'Initiative', 30: 'Coaching', 31: 'Social skills', 32: 'Creativity', 33: 'Enthusiasm', 34: 'Teamwork', 35: 'Goal', 36: 'Critical thinking', 37: 'Flexibility', 38: 'Hospitality', 39: 'Conflict management', 40: 'Ethic', 41: 'Adaptive', 42: 'Leadership', 43: 'Active listening', 44: 'Self-confidence', 45: 'Presentation', 46: 'Problem solving', 47: 'Integrity', 48: 'Negotiation', 49: 'Emotional intelligence', 50: 'Writing', 51: 'Decision', 52: 'Accountability', 53: 'Detail', 54: 'Strategic thinking', 55: 'Argumentation'}\n",
    "\n",
    "    skill_domain_dicts = [skill_dict_layer1, skill_dict_layer2]\n",
    "    prediction[1][0][0] = list(map(lambda x: skill_domain_dicts[layer-1].get(int(x)), prediction[1][0][0]))\n",
    "\n",
    "    #transform results to output = [(<skill>, <domain>, (<start>, <end>), <probability>), ...]\n",
    "    result = []\n",
    "    for i, token in enumerate(prediction[0][0]):\n",
    "        if not prediction[1][0][0][i] == 'no skill':\n",
    "            tmp_tuple = (token, prediction[1][0][0][i], (i,i),prediction[1][1][0][i] )\n",
    "            result.append(tmp_tuple)\n",
    "    return result\n",
    "\n",
    "print(result_transformer(model_layer2.predict_text('You have to be proficient in python.', True), 2))"
   ],
   "metadata": {
    "collapsed": false,
    "pycharm": {
     "name": "#%%\n"
    }
   }
  },
  {
   "cell_type": "code",
   "execution_count": null,
   "outputs": [],
   "source": [],
   "metadata": {
    "collapsed": false,
    "pycharm": {
     "name": "#%%\n"
    }
   }
  }
 ],
 "metadata": {
  "kernelspec": {
   "display_name": "Python 3",
   "language": "python",
   "name": "python3"
  },
  "language_info": {
   "codemirror_mode": {
    "name": "ipython",
    "version": 2
   },
   "file_extension": ".py",
   "mimetype": "text/x-python",
   "name": "python",
   "nbconvert_exporter": "python",
   "pygments_lexer": "ipython2",
   "version": "2.7.6"
  }
 },
 "nbformat": 4,
 "nbformat_minor": 0
}