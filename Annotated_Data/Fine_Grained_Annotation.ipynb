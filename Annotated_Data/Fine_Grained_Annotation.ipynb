{
 "cells": [
  {
   "cell_type": "code",
   "execution_count": 28,
   "id": "7d1bd548",
   "metadata": {},
   "outputs": [],
   "source": [
    "import pandas as pd\n",
    "import os\n",
    "import warnings\n",
    "\n",
    "os.chdir('C:/Users/fib0/Desktop/Final_Data_Fine_Grained/Source_Data')\n",
    "warnings.filterwarnings('ignore')"
   ]
  },
  {
   "cell_type": "code",
   "execution_count": 29,
   "id": "e581cca9",
   "metadata": {},
   "outputs": [],
   "source": [
    "taxonomy       = pd.read_csv(\"skills_preprocessed.csv\")\n",
    "annotated_data = pd.read_csv(\"annotated_data.csv\")"
   ]
  },
  {
   "cell_type": "code",
   "execution_count": 30,
   "id": "a590502f",
   "metadata": {},
   "outputs": [],
   "source": [
    "annotated_data = annotated_data[[\"origin_sentence\", \"left_context\", \"candidate_skill\", \"right_context\", \"sentiment\"]]\n",
    "annotated_data.drop_duplicates(inplace = True)\n",
    "annotated_data.reset_index(drop = True, inplace = True)\n",
    "\n",
    "annotated_data[\"layer1\"] = \"-\"\n",
    "annotated_data[\"layer2\"] = \"-\"\n",
    "annotated_data[\"layer3\"] = \"-\""
   ]
  },
  {
   "cell_type": "code",
   "execution_count": 31,
   "id": "5b1db8a6",
   "metadata": {},
   "outputs": [],
   "source": [
    "annotated_data = annotated_data[annotated_data[\"candidate_skill\"] != \"design\"] \n",
    "# Cannot be fixed\n",
    "\n",
    "annotated_data = annotated_data[annotated_data[\"candidate_skill\"] != \"testing\"]\n",
    "# replace with well - testing\n",
    "\n",
    "annotated_data = annotated_data[annotated_data[\"candidate_skill\"] != \"material\"]\n",
    "# Cannot be fixed\n",
    "\n",
    "annotated_data = annotated_data[annotated_data[\"candidate_skill\"] != \"completion\"]\n",
    "# Replace with well completion\n",
    "\n",
    "annotated_data = annotated_data[annotated_data[\"candidate_skill\"] != \"office\"]\n",
    "#\n",
    "\n",
    "annotated_data = annotated_data[annotated_data[\"candidate_skill\"] != \"end development\"]\n",
    "#\n",
    "\n",
    "annotated_data = annotated_data[annotated_data[\"candidate_skill\"] != \"control\"]\n",
    "#\n",
    "\n",
    "annotated_data = annotated_data[annotated_data[\"candidate_skill\"] != \"bill material\"]\n",
    "# Replace with bill of material\n",
    "\n",
    "annotated_data = annotated_data[annotated_data[\"candidate_skill\"] != \"b testing\"]\n",
    "# Replace with a b testing\n",
    "\n",
    "annotated_data = annotated_data[annotated_data[\"candidate_skill\"] != \"lean sigma\"]\n",
    "# Replace with lean six sigma\n",
    "\n",
    "annotated_data = annotated_data[annotated_data[\"candidate_skill\"] != \"design construction\"]\n",
    "# Replace with design and construction\n",
    "\n",
    "annotated_data = annotated_data[annotated_data[\"candidate_skill\"] != \"life cycle\"]\n",
    "# Replace with full life cycle\n",
    "\n",
    "annotated_data = annotated_data[annotated_data[\"candidate_skill\"] != \"sigma\"]\n",
    "# Replace with six sigma\n",
    "\n",
    "annotated_data = annotated_data[annotated_data[\"candidate_skill\"] != \"note\"]\n",
    "# Cannot be fixed\n",
    "\n",
    "annotated_data = annotated_data[annotated_data[\"candidate_skill\"] != \"trade\"]\n",
    "# Cannot be fixed\n",
    "\n",
    "annotated_data = annotated_data[annotated_data[\"candidate_skill\"] != \"environmental health safety\"]\n",
    "# Replace with environmental health and safety\n",
    "\n",
    "annotated_data = annotated_data[annotated_data[\"candidate_skill\"] != \"software service saas\"]\n",
    "# Replace with software as a service saas\n",
    "\n",
    "annotated_data.reset_index(inplace = True, drop = True)"
   ]
  },
  {
   "cell_type": "code",
   "execution_count": 32,
   "id": "2b3335b5",
   "metadata": {},
   "outputs": [],
   "source": [
    "for index in range(len(annotated_data)):\n",
    "    \n",
    "    if annotated_data[\"sentiment\"][index] != \"no skill\":\n",
    "        \n",
    "        skill = annotated_data[\"candidate_skill\"][index]\n",
    "        fine_grained_layers = taxonomy[taxonomy[\"skills_lemmatized\"] == skill]\n",
    "        \n",
    "        annotated_data[\"layer1\"][index] = fine_grained_layers.iloc[0,0]\n",
    "        annotated_data[\"layer2\"][index] = fine_grained_layers.iloc[0,1]\n",
    "        annotated_data[\"layer3\"][index] = fine_grained_layers.iloc[0,2]"
   ]
  },
  {
   "cell_type": "code",
   "execution_count": 33,
   "id": "219d6444",
   "metadata": {},
   "outputs": [],
   "source": [
    "annotated_data.to_csv(\"fine_grained_annotated.csv\", index = False)"
   ]
  },
  {
   "cell_type": "code",
   "execution_count": 34,
   "id": "dac8779c",
   "metadata": {},
   "outputs": [],
   "source": [
    "import math\n",
    "\n",
    "data = pd.read_csv(\"soft_skills_annotations_fine_grained.csv\")\n",
    "\n",
    "for index in range(len(data)):\n",
    "    if type(data['layer1'][index]) != str:\n",
    "        if math.isnan(data['layer1'][index]):\n",
    "            data['layer1'][index] = '-'\n",
    "            \n",
    "data.reset_index(inplace = True, drop = True)\n",
    "data.drop(labels = [\"index\"], axis = 1, inplace = True)\n",
    "\n",
    "data[\"layer2\"] = '-'\n",
    "data[\"layer3\"] = '-'"
   ]
  },
  {
   "cell_type": "code",
   "execution_count": 35,
   "id": "0b725481",
   "metadata": {},
   "outputs": [
    {
     "data": {
      "text/plain": [
       "((7798, 8), (7217, 8))"
      ]
     },
     "execution_count": 35,
     "metadata": {},
     "output_type": "execute_result"
    }
   ],
   "source": [
    "annotated_data.shape, data.shape"
   ]
  },
  {
   "cell_type": "code",
   "execution_count": 36,
   "id": "3d4f7f4f",
   "metadata": {},
   "outputs": [],
   "source": [
    "final_data = pd.concat([annotated_data, data], axis=0)"
   ]
  },
  {
   "cell_type": "code",
   "execution_count": 37,
   "id": "577f7925",
   "metadata": {},
   "outputs": [],
   "source": [
    "final_data.reset_index(inplace = True, drop = True)"
   ]
  },
  {
   "cell_type": "code",
   "execution_count": 38,
   "id": "719f37a5",
   "metadata": {},
   "outputs": [],
   "source": [
    "#final_data[\"layer1\"].value_counts()"
   ]
  },
  {
   "cell_type": "code",
   "execution_count": 39,
   "id": "f0712508",
   "metadata": {},
   "outputs": [],
   "source": [
    "final_data.to_csv('final_data_fine_grained.csv', index=False)"
   ]
  }
 ],
 "metadata": {
  "kernelspec": {
   "display_name": "Python 3",
   "language": "python",
   "name": "python3"
  },
  "language_info": {
   "codemirror_mode": {
    "name": "ipython",
    "version": 3
   },
   "file_extension": ".py",
   "mimetype": "text/x-python",
   "name": "python",
   "nbconvert_exporter": "python",
   "pygments_lexer": "ipython3",
   "version": "3.8.8"
  }
 },
 "nbformat": 4,
 "nbformat_minor": 5
}
