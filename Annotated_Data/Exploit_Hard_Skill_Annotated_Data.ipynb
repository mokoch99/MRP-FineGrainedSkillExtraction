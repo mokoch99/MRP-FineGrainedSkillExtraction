{
 "cells": [
  {
   "cell_type": "code",
   "execution_count": 1,
   "id": "5d3d315f",
   "metadata": {},
   "outputs": [],
   "source": [
    "import pandas as pd\n",
    "import os\n",
    "\n",
    "os.chdir('C:/Users/fib0/Desktop/Final_Data_Fine_Grained/Source_Data')"
   ]
  },
  {
   "cell_type": "code",
   "execution_count": 2,
   "id": "ce8aa057",
   "metadata": {},
   "outputs": [],
   "source": [
    "# Problematic annotations contain : recruiting, support, management, strategy\n",
    "# We need to filter them out\n",
    "\n",
    "# In this notebook\n",
    "# 1. We filter out the problematicac annotation\n",
    "# 2. We concatinate the annotated data\n",
    "# 3. We remove duplicates"
   ]
  },
  {
   "cell_type": "code",
   "execution_count": 3,
   "id": "9496f40b",
   "metadata": {},
   "outputs": [],
   "source": [
    "def word_in_string(word, string):\n",
    "    return word in string"
   ]
  },
  {
   "cell_type": "code",
   "execution_count": 4,
   "id": "23436f38",
   "metadata": {},
   "outputs": [
    {
     "data": {
      "text/plain": [
       "(1636, 1631, 1628, 1595, 1630, 624, 582, 518, 1411)"
      ]
     },
     "execution_count": 4,
     "metadata": {},
     "output_type": "execute_result"
    }
   ],
   "source": [
    "data1 = pd.read_csv(\"Mahir_data_final.csv\")\n",
    "data2 = pd.read_csv(\"Moritz_data_final.csv\")\n",
    "data3 = pd.read_csv(\"Kilian_data_final.csv\")\n",
    "data4 = pd.read_csv(\"Advaith_data.csv\")\n",
    "data5 = pd.read_csv(\"Arun_data.csv\")\n",
    "data6 = pd.read_csv(\"Advaith_Data_New.csv\")\n",
    "data7 = pd.read_csv(\"Mahir_data_2nd_version.csv\")\n",
    "data8 = pd.read_csv(\"morit_data_labeled_new.csv\")\n",
    "data9 = pd.read_csv(\"Data_Annotated_Final_Bill.csv\")\n",
    "\n",
    "len(data1), len(data2), len(data3), len(data4), len(data5), len(data6), len(data7), len(data8), len(data9)"
   ]
  },
  {
   "cell_type": "code",
   "execution_count": 5,
   "id": "ade3298b",
   "metadata": {},
   "outputs": [
    {
     "name": "stderr",
     "output_type": "stream",
     "text": [
      "<ipython-input-5-69aad2a5284d>:6: SettingWithCopyWarning: \n",
      "A value is trying to be set on a copy of a slice from a DataFrame\n",
      "\n",
      "See the caveats in the documentation: https://pandas.pydata.org/pandas-docs/stable/user_guide/indexing.html#returning-a-view-versus-a-copy\n",
      "  data[\"has_problem\"][index] = True\n"
     ]
    },
    {
     "data": {
      "text/plain": [
       "(1309, 1326, 1327, 1305, 1558, 598, 551, 496)"
      ]
     },
     "execution_count": 5,
     "metadata": {},
     "output_type": "execute_result"
    }
   ],
   "source": [
    "for data in (data1, data2, data3, data4, data5, data6, data7, data8):\n",
    "    data[\"has_problem\"] = False\n",
    "    for skill in ['recruiting', 'support', 'management', 'strategy']:\n",
    "        for index in range(len(data)):\n",
    "            if word_in_string(skill, data[\"candidate_skill\"][index]):\n",
    "                data[\"has_problem\"][index] = True\n",
    "                \n",
    "data1 = data1[data1['has_problem'] == False]\n",
    "data2 = data2[data2['has_problem'] == False]\n",
    "data3 = data3[data3['has_problem'] == False]\n",
    "data4 = data4[data4['has_problem'] == False]\n",
    "data5 = data5[data5['has_problem'] == False]\n",
    "data6 = data6[data6['has_problem'] == False]\n",
    "data7 = data7[data7['has_problem'] == False]\n",
    "data8 = data8[data8['has_problem'] == False]\n",
    "\n",
    "len(data1), len(data2), len(data3), len(data4), len(data5), len(data6), len(data7), len(data8)"
   ]
  },
  {
   "cell_type": "code",
   "execution_count": 6,
   "id": "a715202a",
   "metadata": {},
   "outputs": [],
   "source": [
    "data = pd.concat([data1, data2, data3, data4, data5, data6, data7, data8, data9])\n",
    "data.drop_duplicates(inplace = True)\n",
    "data.reset_index(drop = True, inplace = True)\n",
    "data.drop(['has_problem'], axis=1, inplace = True)\n",
    "data.to_csv('annotated_data.csv', index=False)  "
   ]
  }
 ],
 "metadata": {
  "kernelspec": {
   "display_name": "Python 3",
   "language": "python",
   "name": "python3"
  },
  "language_info": {
   "codemirror_mode": {
    "name": "ipython",
    "version": 3
   },
   "file_extension": ".py",
   "mimetype": "text/x-python",
   "name": "python",
   "nbconvert_exporter": "python",
   "pygments_lexer": "ipython3",
   "version": "3.8.8"
  }
 },
 "nbformat": 4,
 "nbformat_minor": 5
}
