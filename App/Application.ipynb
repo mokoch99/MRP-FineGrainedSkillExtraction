{
 "cells": [
  {
   "cell_type": "code",
   "execution_count": 16,
   "id": "afc2b70a",
   "metadata": {},
   "outputs": [],
   "source": [
    "import pandas as pd\n",
    "import gensim\n",
    "from gensim.models import Word2Vec, FastText\n",
    "import spacy\n",
    "import numpy as np\n",
    "import pickle\n",
    "import re\n",
    "import sklearn\n",
    "from sklearn.ensemble import RandomForestClassifier\n",
    "\n",
    "nlp = spacy.load('en_core_web_lg')"
   ]
  },
  {
   "cell_type": "code",
   "execution_count": 17,
   "id": "feefaeba",
   "metadata": {},
   "outputs": [],
   "source": [
    "def text_to_vector(text, model):\n",
    "    \n",
    "    vector = np.zeros(100)\n",
    "    non_zero_words = 0\n",
    "    \n",
    "    if type(text) == str:\n",
    "        \n",
    "        words = text.split()\n",
    "        for word in words:\n",
    "            try:\n",
    "                vector += model.wv[word]\n",
    "                non_zero_words += 1\n",
    "            except:\n",
    "                pass\n",
    "    \n",
    "    if non_zero_words != 0:\n",
    "        return vector / non_zero_words\n",
    "    else:\n",
    "        return vector\n",
    "    \n",
    "def lemmatizer(text):\n",
    "    doc = nlp(str(text))\n",
    "    text = ' '.join([token.lemma_ if token.lemma_ != '-PRON-' else token.text for token in doc])\n",
    "    return text\n",
    "\n",
    "def stop_word_remover(text):\n",
    "    doc = nlp(str(text))\n",
    "    text = ' '.join([token.text for token in doc if token.is_stop == False])\n",
    "    return text"
   ]
  },
  {
   "cell_type": "code",
   "execution_count": 124,
   "id": "37ef3925",
   "metadata": {},
   "outputs": [],
   "source": [
    "model = FastText.load(\"FastText.model\")\n",
    "clf = pickle.load(open(\"finalized_model\", 'rb'))\n",
    "#clf = pickle.load(open(\"Logistic Regression custom fasttextLayer2 True True\", 'rb'))\n",
    "#clf = pickle.load(open(\"Probabilistic SVM custom fasttextLayer2 True True\", 'rb'))"
   ]
  },
  {
   "cell_type": "code",
   "execution_count": 125,
   "id": "952d7661",
   "metadata": {},
   "outputs": [],
   "source": [
    "def sentence_preprocess(text):\n",
    "    \n",
    "    # (1) Removing leading and ending whitespaces\n",
    "    preprocessed_text = text.strip()\n",
    "\n",
    "    # (2) Replacing multiple spaces with a single space\n",
    "    preprocessed_text = re.sub(' +', ' ', text)\n",
    "\n",
    "    # (3) First regard special characters as different words\n",
    "    preprocessed_text = re.sub('(?<=\\w)([!?,.])', r' \\1', preprocessed_text)\n",
    "\n",
    "    # (4) Lowercase\n",
    "    preprocessed_text = preprocessed_text.lower()\n",
    "\n",
    "    # (5) Lemmatize\n",
    "    preprocessed_text = lemmatizer(preprocessed_text)\n",
    "\n",
    "    # (6) Tokenize into words.\n",
    "    words = preprocessed_text.split(\" \")\n",
    "\n",
    "    #is_stopword = []\n",
    "    #for word in words:\n",
    "    #    is_stopword.append(nlp.vocab[word].is_stop)\n",
    "\n",
    "    #words = list(zip(words, list(range(len(words))), is_stopword))\n",
    "    return preprocessed_text"
   ]
  },
  {
   "cell_type": "code",
   "execution_count": 126,
   "id": "e01767f4",
   "metadata": {},
   "outputs": [],
   "source": [
    "def extract_skills(token_list, threshold = 0.2):\n",
    "    token_list_sorted = sorted(token_list, key=lambda t: 1-t[3])\n",
    "    #print(token_list_sorted)\n",
    "    extracted_skills = []\n",
    "    ranges = set()\n",
    "    for token in token_list_sorted:\n",
    "        if token[3] < threshold:\n",
    "            break\n",
    "        tmp = set(range(token[2][0], token[2][1]+1))\n",
    "        if len(tmp.intersection(ranges)) == 0:\n",
    "            extracted_skills.append(token)\n",
    "            ranges = ranges.union(tmp)\n",
    "    return extracted_skills"
   ]
  },
  {
   "cell_type": "code",
   "execution_count": 127,
   "id": "2228aaf0",
   "metadata": {},
   "outputs": [],
   "source": [
    "def app(text, contextual=False, confidence_threshold=0.3):\n",
    "\n",
    "    labelled_tokens = []\n",
    "    words = sentence_preprocess(text).split(\" \")\n",
    "    \n",
    "    for token_length in range(1,5):\n",
    "        \n",
    "        for index in range(len(words) + 1 - token_length):\n",
    "\n",
    "            candidate_skill = words[index:index + token_length]\n",
    "            candidate_skill = \" \".join(word for word in candidate_skill)\n",
    "\n",
    "            if not nlp.vocab[candidate_skill].is_stop and candidate_skill not in (\".\", \",\"):\n",
    "\n",
    "                if contextual==True:\n",
    "                    if index != 0:\n",
    "                        left_context = ' '.join([str(item) for item in words[0:index] if not nlp.vocab[item].is_stop])\n",
    "                        if len(left_context.split(\" \")) > 5:\n",
    "                            left_context = ' '.join(word for word in left_context.split(\" \")[-5:])\n",
    "                    else: \n",
    "                        left_context = ''\n",
    "                    if index != len(words):\n",
    "                        right_context   = ' '.join([str(item) for item in words[index+token_length:] if not nlp.vocab[item].is_stop])\n",
    "                        if len(right_context.split(\" \")) > 5:\n",
    "                            right_context = ' '.join(word for word in right_context.split(\" \")[0:5])\n",
    "                    else:\n",
    "                        right_context = ''\n",
    "\n",
    "                    wv1 = text_to_vector(left_context,  model)\n",
    "                    wv2 =  text_to_vector(candidate_skill, model)\n",
    "                    wv3 = text_to_vector(right_context, model)\n",
    "\n",
    "                    input_vector = np.concatenate((wv1, wv2, wv3), axis=None).reshape(1, -1)\n",
    "\n",
    "                else:\n",
    "                    \n",
    "                    input_vector = text_to_vector(candidate_skill, model).reshape(1, -1)\n",
    "                \n",
    "                # Maybe we need to calibrate probabilities \n",
    "                confidence = clf.predict_proba(input_vector)\n",
    "                #print(type(confidence))\n",
    "                if confidence.max() > confidence_threshold:\n",
    "                    label = clf.predict(input_vector)\n",
    "                else:\n",
    "                    label = \"no skill\"\n",
    "                \n",
    "                if label != \"no skill\":\n",
    "                    labelled_tokens.append((candidate_skill, label[0], (index, index - 1 + token_length), confidence.max()))\n",
    "        \n",
    "    return extract_skills(labelled_tokens, threshold = confidence_threshold)\n",
    "    #return labelled_tokens"
   ]
  },
  {
   "cell_type": "code",
   "execution_count": 128,
   "id": "7828c480",
   "metadata": {},
   "outputs": [
    {
     "data": {
      "text/plain": [
       "'our company be one of the large car industry leadership huge market share , with over 20000 employee and over 1000 manager as a candidate you must be communicative , have a good work ethic as well as possess a descent knowledge of python .'"
      ]
     },
     "execution_count": 128,
     "metadata": {},
     "output_type": "execute_result"
    }
   ],
   "source": [
    "sentence_preprocess(text1)"
   ]
  },
  {
   "cell_type": "code",
   "execution_count": 129,
   "id": "0965ba64",
   "metadata": {},
   "outputs": [],
   "source": [
    "text = \"You must be proficient in web security as well as self motivated\""
   ]
  },
  {
   "cell_type": "code",
   "execution_count": null,
   "id": "33438b1d",
   "metadata": {},
   "outputs": [],
   "source": []
  },
  {
   "cell_type": "code",
   "execution_count": 130,
   "id": "bbabe012",
   "metadata": {},
   "outputs": [
    {
     "data": {
      "text/plain": [
       "[('motivate', 'Emotional intelligence', (11, 11), 0.26)]"
      ]
     },
     "execution_count": 130,
     "metadata": {},
     "output_type": "execute_result"
    }
   ],
   "source": [
    "app(text, contextual=True, confidence_threshold=0.25)"
   ]
  },
  {
   "cell_type": "code",
   "execution_count": 131,
   "id": "91762850",
   "metadata": {},
   "outputs": [],
   "source": [
    "text1 = \"Our company is one of the largest car industries leadership huge market share, with over 20000 employees and over 1000 managers As a candidate you must be communicative, have a good work ethic as well as possess a descent knowledge of Python.\"\n",
    "text2 = \"The ideal candidate will have leadership and also be influential in order to motivate his team.\""
   ]
  },
  {
   "cell_type": "code",
   "execution_count": 132,
   "id": "b41cd585",
   "metadata": {},
   "outputs": [
    {
     "data": {
      "text/plain": [
       "[('leadership', 'Leadership', (5, 5), 0.37),\n",
       " ('motivate', 'Emotional intelligence', (13, 13), 0.26)]"
      ]
     },
     "execution_count": 132,
     "metadata": {},
     "output_type": "execute_result"
    }
   ],
   "source": [
    "app(text2, contextual=True,  confidence_threshold=0.2)"
   ]
  },
  {
   "cell_type": "code",
   "execution_count": 133,
   "id": "ec5c43c8",
   "metadata": {},
   "outputs": [
    {
     "data": {
      "text/plain": [
       "[('python', 'software engineering', (43, 43), 0.5),\n",
       " ('leadership', 'Leadership', (9, 9), 0.4),\n",
       " ('communicative', 'Communication', (28, 28), 0.32),\n",
       " ('work ethic as well', 'Adaptive', (33, 36), 0.26)]"
      ]
     },
     "execution_count": 133,
     "metadata": {},
     "output_type": "execute_result"
    }
   ],
   "source": [
    "app(text1, contextual=True,  confidence_threshold=0.25)"
   ]
  },
  {
   "cell_type": "code",
   "execution_count": 134,
   "id": "9a2a8e4f",
   "metadata": {},
   "outputs": [
    {
     "data": {
      "text/plain": [
       "[('sql', 'software engineering', (0, 0), 0.52),\n",
       " ('mongodb', 'software engineering', (2, 2), 0.33),\n",
       " ('statistic', 'research methods', (10, 10), 0.27)]"
      ]
     },
     "execution_count": 134,
     "metadata": {},
     "output_type": "execute_result"
    }
   ],
   "source": [
    "text3 = \"SQL, MongoDB as wells as some basic knowledge of statistics would be taken into account. \"\n",
    "text4 = \"You will be also responsible for the account management\"\n",
    "app(text3, contextual=True,  confidence_threshold=0.25)"
   ]
  },
  {
   "cell_type": "code",
   "execution_count": 135,
   "id": "e0cceb16",
   "metadata": {},
   "outputs": [
    {
     "data": {
      "text/plain": [
       "[('account management', 'accounting', (7, 8), 0.18),\n",
       " ('responsible', 'Accountability', (4, 4), 0.17)]"
      ]
     },
     "execution_count": 135,
     "metadata": {},
     "output_type": "execute_result"
    }
   ],
   "source": [
    "app(text4, contextual=True,  confidence_threshold=0.15)"
   ]
  },
  {
   "cell_type": "code",
   "execution_count": 136,
   "id": "3ea1cbca",
   "metadata": {},
   "outputs": [
    {
     "data": {
      "text/plain": [
       "[('python', 'software engineering', (7, 7), 0.49)]"
      ]
     },
     "execution_count": 136,
     "metadata": {},
     "output_type": "execute_result"
    }
   ],
   "source": [
    "text5 = \"As a trainer you will deal with pythons and other animals\"\n",
    "app(text5, contextual=True,  confidence_threshold=0.25)"
   ]
  },
  {
   "cell_type": "code",
   "execution_count": 137,
   "id": "d4f97cb1",
   "metadata": {},
   "outputs": [
    {
     "data": {
      "text/plain": [
       "[('python', 'software engineering', (3, 3), 0.51),\n",
       " ('java', 'software engineering', (5, 5), 0.38),\n",
       " ('microsoft', 'business intelligence and it systems design', (8, 8), 0.22)]"
      ]
     },
     "execution_count": 137,
     "metadata": {},
     "output_type": "execute_result"
    }
   ],
   "source": [
    "text6 = \"Good knowledge of Python and Java and generally Microsoft Office will be appreciated\"\n",
    "app(text6, contextual=True,  confidence_threshold=0.2)"
   ]
  },
  {
   "cell_type": "code",
   "execution_count": null,
   "id": "a888ce3a",
   "metadata": {},
   "outputs": [],
   "source": []
  },
  {
   "cell_type": "code",
   "execution_count": null,
   "id": "7dda64c1",
   "metadata": {},
   "outputs": [],
   "source": []
  },
  {
   "cell_type": "code",
   "execution_count": 152,
   "id": "2370c516",
   "metadata": {},
   "outputs": [],
   "source": [
    "# Robustness Check"
   ]
  },
  {
   "cell_type": "code",
   "execution_count": 145,
   "id": "150cf717",
   "metadata": {},
   "outputs": [
    {
     "data": {
      "text/plain": [
       "[('up with', 'it systems and support', (14, 15), 0.24),\n",
       " ('innovative', 'Creativity', (16, 16), 0.23),\n",
       " ('able to', 'Time management', (11, 12), 0.16),\n",
       " ('well as be', 'education, languages and art', (8, 10), 0.15),\n",
       " ('to have', 'it systems and support', (2, 3), 0.14),\n",
       " ('problem', 'Problem solving', (20, 20), 0.13),\n",
       " ('selenium', 'it systems and support', (6, 6), 0.11)]"
      ]
     },
     "execution_count": 145,
     "metadata": {},
     "output_type": "execute_result"
    }
   ],
   "source": [
    "# Selenium (True)\n",
    "text = \"You need to have experience in Selenium as well as be able to come up with innovative solutions for demanding problems\"\n",
    "app(text, contextual=True,  confidence_threshold=0.1)"
   ]
  },
  {
   "cell_type": "code",
   "execution_count": 144,
   "id": "5f3948d3",
   "metadata": {},
   "outputs": [
    {
     "data": {
      "text/plain": [
       "[('nagio', 'it systems and support', (10, 10), 0.24),\n",
       " ('configuration', 'it systems and support', (5, 5), 0.19),\n",
       " ('management', 'management and hr', (6, 6), 0.17),\n",
       " ('tool', 'construction, maintenance and transport', (7, 7), 0.15),\n",
       " ('with common monitoring and', 'management and hr', (1, 4), 0.13)]"
      ]
     },
     "execution_count": 144,
     "metadata": {},
     "output_type": "execute_result"
    }
   ],
   "source": [
    "# Nagios (True)\n",
    "text = \"Experience with common monitoring and configuration management tools such as Nagios.\"\n",
    "app(text, contextual=True,  confidence_threshold=0.1)"
   ]
  },
  {
   "cell_type": "code",
   "execution_count": 149,
   "id": "c367449f",
   "metadata": {},
   "outputs": [
    {
     "data": {
      "text/plain": [
       "[('troubleshooting skill', 'Problem solving', (3, 4), 0.19),\n",
       " ('tenacious', 'Leadership', (2, 2), 0.18),\n",
       " ('sharp', 'Critical thinking', (0, 0), 0.16),\n",
       " ('will be', 'Enthusiasm', (5, 6), 0.16),\n",
       " ('appreciate', 'Social skills', (7, 7), 0.13)]"
      ]
     },
     "execution_count": 149,
     "metadata": {},
     "output_type": "execute_result"
    }
   ],
   "source": [
    "# Tenacious (True)\n",
    "text = 'Sharp and tenacious troubleshooting skills will be appreciated.'\n",
    "app(text, contextual=True,  confidence_threshold=0.1)"
   ]
  },
  {
   "cell_type": "code",
   "execution_count": 151,
   "id": "5b832470",
   "metadata": {},
   "outputs": [
    {
     "data": {
      "text/plain": [
       "[('be helpful .', 'education, languages and art', (4, 6), 0.18),\n",
       " ('background with', 'caregiving and rehabilitation', (0, 1), 0.12),\n",
       " ('highchart will', 'Enthusiasm', (2, 3), 0.09)]"
      ]
     },
     "execution_count": 151,
     "metadata": {},
     "output_type": "execute_result"
    }
   ],
   "source": [
    "text = 'Background with Highcharts will be helpful.'\n",
    "app(text, contextual=True,  confidence_threshold=0.05)"
   ]
  },
  {
   "cell_type": "code",
   "execution_count": 153,
   "id": "32c56587",
   "metadata": {},
   "outputs": [
    {
     "data": {
      "text/plain": [
       "[('attention to detail', 'Detail', (6, 8), 0.6),\n",
       " ('fix', 'business intelligence and it systems design', (21, 21), 0.16),\n",
       " (', madden by', 'mechanical and electrical engineering', (9, 11), 0.16),\n",
       " ('broken', 'it systems and support', (14, 14), 0.15),\n",
       " ('under pressure .', 'Ethic', (25, 27), 0.15),\n",
       " ('meticulous', 'Enthusiasm', (0, 0), 0.13),\n",
       " ('editor', 'education, languages and art', (1, 1), 0.13),\n",
       " (', perfectionist ,', 'education, languages and art', (2, 4), 0.13),\n",
       " ('typo', 'construction, maintenance and transport', (12, 12), 0.12),\n",
       " ('cheerful', 'Enthusiasm', (24, 24), 0.12),\n",
       " ('delight', 'Leadership', (17, 17), 0.1),\n",
       " ('they and', 'it systems and support', (22, 23), 0.09),\n",
       " ('link ,', 'accounting', (15, 16), 0.08)]"
      ]
     },
     "execution_count": 153,
     "metadata": {},
     "output_type": "execute_result"
    }
   ],
   "source": [
    "# meticulous (False), cheerful (True)\n",
    "text = 'Meticulous editor, perfectionist, obsessive attention to detail, maddened by typos and broken links, delighted by finding and fixing them and Cheerful under pressure.'\n",
    "app(text, contextual=True,  confidence_threshold=0.05)"
   ]
  },
  {
   "cell_type": "code",
   "execution_count": 154,
   "id": "0f82a812",
   "metadata": {},
   "outputs": [
    {
     "data": {
      "text/plain": [
       "[('work ,', 'Adaptive', (4, 5), 0.42),\n",
       " ('meeting .', 'Goal', (15, 16), 0.29),\n",
       " ('office administrative', 'administration and law', (2, 3), 0.28),\n",
       " (', mailing ,', 'construction, maintenance and transport', (9, 11), 0.18),\n",
       " ('help with', 'education, languages and art', (0, 1), 0.17),\n",
       " ('filing', 'administration and law', (8, 8), 0.13),\n",
       " ('and prepare for', 'accounting', (12, 14), 0.07)]"
      ]
     },
     "execution_count": 154,
     "metadata": {},
     "output_type": "execute_result"
    }
   ],
   "source": [
    "#  filing (True), mailing (False)\n",
    "text = 'Helping with office administrative work, such as filing, mailing, and preparing for meetings.'\n",
    "app(text, contextual=True,  confidence_threshold=0.05)"
   ]
  },
  {
   "cell_type": "code",
   "execution_count": 156,
   "id": "8942d9c2",
   "metadata": {},
   "outputs": [
    {
     "data": {
      "text/plain": [
       "[('duty may', 'healthcare administration', (1, 2), 0.27),\n",
       " (', mix', 'it systems and support', (11, 12), 0.2),\n",
       " (', plastering ,', 'mechanical and electrical engineering', (14, 16), 0.2),\n",
       " ('various labor', 'Leadership', (22, 23), 0.18),\n",
       " ('dirt , carry', 'construction, maintenance and transport', (7, 9), 0.15),\n",
       " ('dig , remove', 'mechanical and electrical engineering', (4, 6), 0.13),\n",
       " ('painting , cleaning and',\n",
       "  'construction, maintenance and transport',\n",
       "  (17, 20),\n",
       "  0.13),\n",
       " ('cement', 'finance', (13, 13), 0.12),\n",
       " ('intensive need .', 'Leadership', (24, 26), 0.08)]"
      ]
     },
     "execution_count": 156,
     "metadata": {},
     "output_type": "execute_result"
    }
   ],
   "source": [
    "# Digging (False)\n",
    "text = 'Some duties may include digging, removing dirt, carrying bricks, mixing cement, plastering, painting, cleaning and other various labor intensive needs.'\n",
    "app(text, contextual=True,  confidence_threshold=0.05)"
   ]
  },
  {
   "cell_type": "code",
   "execution_count": 157,
   "id": "40fbf7a8",
   "metadata": {},
   "outputs": [
    {
     "data": {
      "text/plain": [
       "[('management team \\xa0', 'Conflict management', (8, 10), 0.29),\n",
       " ('work', 'Adaptive', (11, 11), 0.25),\n",
       " ('presentation', 'Presentation', (3, 3), 0.24),\n",
       " ('powerpoint', 'business intelligence and it systems design', (2, 2), 0.15),\n",
       " ('effectively', 'Leadership', (12, 12), 0.14),\n",
       " ('senior', 'education, languages and art', (7, 7), 0.12),\n",
       " ('and independently', 'Leadership', (13, 14), 0.09),\n",
       " ('environment .', 'Leadership', (18, 19), 0.09),\n",
       " ('a dynamic', 'education, languages and art', (16, 17), 0.08)]"
      ]
     },
     "execution_count": 157,
     "metadata": {},
     "output_type": "execute_result"
    }
   ],
   "source": [
    "# Powerpoint (True), Independently (True)\n",
    "text = \"Experience in PowerPoint presentation in front of senior management team  Works effectively and independently in a dynamic environment.\"\n",
    "app(text, contextual=True,  confidence_threshold=0.05)"
   ]
  },
  {
   "cell_type": "code",
   "execution_count": 158,
   "id": "f9c70594",
   "metadata": {},
   "outputs": [
    {
     "data": {
      "text/plain": [
       "[('speak', 'education, languages and art', (7, 7), 0.46),\n",
       " ('language', 'education, languages and art', (9, 9), 0.32),\n",
       " ('persian', 'education, languages and art', (2, 2), 0.22),\n",
       " ('arabic &', 'education, languages and art', (0, 1), 0.2),\n",
       " ('/ farsi', 'mechanical and electrical engineering', (3, 4), 0.17)]"
      ]
     },
     "execution_count": 158,
     "metadata": {},
     "output_type": "execute_result"
    }
   ],
   "source": [
    "# Arabic (True), Education (True)\n",
    "text = 'Arabic & Persian/Farsi Linguist- Must Speak both languages Requisition'\n",
    "app(text, contextual=True,  confidence_threshold=0.05)"
   ]
  },
  {
   "cell_type": "code",
   "execution_count": 160,
   "id": "14b83834",
   "metadata": {},
   "outputs": [
    {
     "data": {
      "text/plain": [
       "[('communication skill', 'Communication', (15, 16), 0.45),\n",
       " (', you have an', 'education, languages and art', (1, 4), 0.21),\n",
       " ('mindset', 'Goal', (6, 6), 0.17),\n",
       " (', collaborative working', 'Adaptive', (7, 9), 0.17),\n",
       " ('style ,', 'design', (10, 11), 0.12),\n",
       " ('intercultural', 'Leadership', (5, 5), 0.08)]"
      ]
     },
     "execution_count": 160,
     "metadata": {},
     "output_type": "execute_result"
    }
   ],
   "source": [
    "# Intercultular (False)\n",
    "text = 'Lastly, you have an intercultural mindset, collaborative working style, and very good communication skills.'\n",
    "app(text, contextual=True,  confidence_threshold=0.05)"
   ]
  },
  {
   "cell_type": "code",
   "execution_count": 163,
   "id": "c2a608d9",
   "metadata": {},
   "outputs": [
    {
     "data": {
      "text/plain": [
       "[('-', 'mechanical and electrical engineering', (1, 1), 0.18),\n",
       " ('another field', 'civil engineering and design', (13, 14), 0.17),\n",
       " (', or', 'education, languages and art', (9, 10), 0.15),\n",
       " ('degree in counseling', 'accounting', (3, 5), 0.14),\n",
       " ('experience in', 'finance', (11, 12), 0.13),\n",
       " ('of similar', 'mechanical and electrical engineering', (15, 16), 0.11),\n",
       " ('related', 'accounting', (7, 7), 0.1),\n",
       " ('experience', 'Leadership', (17, 17), 0.1)]"
      ]
     },
     "execution_count": 163,
     "metadata": {},
     "output_type": "execute_result"
    }
   ],
   "source": [
    "# degree in counseling (False)\n",
    "text = 'Four-year degree in counseling or related field, or experience in another field of similar experience.'\n",
    "app(text, contextual=True,  confidence_threshold=0.0)"
   ]
  },
  {
   "cell_type": "code",
   "execution_count": null,
   "id": "7abdd594",
   "metadata": {},
   "outputs": [],
   "source": []
  }
 ],
 "metadata": {
  "kernelspec": {
   "display_name": "Python 3",
   "language": "python",
   "name": "python3"
  },
  "language_info": {
   "codemirror_mode": {
    "name": "ipython",
    "version": 3
   },
   "file_extension": ".py",
   "mimetype": "text/x-python",
   "name": "python",
   "nbconvert_exporter": "python",
   "pygments_lexer": "ipython3",
   "version": "3.8.8"
  }
 },
 "nbformat": 4,
 "nbformat_minor": 5
}
