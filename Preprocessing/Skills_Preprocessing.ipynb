{
 "cells": [
  {
   "cell_type": "code",
   "execution_count": 1,
   "id": "cc5063f5",
   "metadata": {},
   "outputs": [],
   "source": [
    "import pandas as pd\n",
    "import re\n",
    "import spacy\n",
    "\n",
    "nlp = spacy.load(\"en_core_web_lg\")"
   ]
  },
  {
   "cell_type": "code",
   "execution_count": 2,
   "id": "c7f4539c",
   "metadata": {},
   "outputs": [],
   "source": [
    "#Function to remove stopwords\n",
    "def stop_word_remover(text):\n",
    "    doc = nlp(str(text))\n",
    "    text = ' '.join([token.text for token in doc if token.is_stop == False])\n",
    "    return text\n",
    "\n",
    "#Function to lemmatize\n",
    "def lemmatizer(text):\n",
    "    doc = nlp(str(text))\n",
    "    text = ' '.join([token.lemma_ if token.lemma_ != '-PRON-' else token.text for token in doc])\n",
    "    return text"
   ]
  },
  {
   "cell_type": "code",
   "execution_count": 3,
   "id": "e1b1fb73",
   "metadata": {},
   "outputs": [],
   "source": [
    "skills = pd.read_csv(\"extracted_taxonomy.csv\")"
   ]
  },
  {
   "cell_type": "code",
   "execution_count": 4,
   "id": "faff0840",
   "metadata": {},
   "outputs": [
    {
     "name": "stderr",
     "output_type": "stream",
     "text": [
      "<ipython-input-4-cb6f3d290782>:7: FutureWarning: The default value of regex will change from True to False in a future version.\n",
      "  skills[\"top_skills\"] = skills[\"top_skills\"].str.replace(r'[^A-Za-z0-9 ]+', ' ')\n"
     ]
    }
   ],
   "source": [
    "# Preprocessing the Skill column\n",
    "\n",
    "# Lowercasing\n",
    "skills[\"top_skills\"] = skills[\"top_skills\"].str.lower()\n",
    "\n",
    "# Replacing special characters with space\n",
    "skills[\"top_skills\"] = skills[\"top_skills\"].str.replace(r'[^A-Za-z0-9 ]+', ' ') \n",
    "\n",
    "# Fix double spacing\n",
    "skills[\"top_skills\"] = skills[\"top_skills\"].str.replace(r'  ', ' ')\n",
    "\n",
    "# Removing starting and ending whitespaces\n",
    "skills[\"top_skills\"] = skills[\"top_skills\"].str.strip()"
   ]
  },
  {
   "cell_type": "code",
   "execution_count": 5,
   "id": "d35810ae",
   "metadata": {},
   "outputs": [],
   "source": [
    "# Create a new columns containing the lemmatized skills\n",
    "skills[\"skills_lemmatized\"] = skills[\"top_skills\"].apply(lemmatizer)\n",
    "#skills[\"skills_lemmatized_no_stopwords\"] = skills[\"skills_lemmatized\"].apply(stop_word_remover)\n",
    "\n",
    "skills.to_csv(\"skills_preprocessed.csv\", index = False)"
   ]
  }
 ],
 "metadata": {
  "kernelspec": {
   "display_name": "Python 3",
   "language": "python",
   "name": "python3"
  },
  "language_info": {
   "codemirror_mode": {
    "name": "ipython",
    "version": 3
   },
   "file_extension": ".py",
   "mimetype": "text/x-python",
   "name": "python",
   "nbconvert_exporter": "python",
   "pygments_lexer": "ipython3",
   "version": "3.8.8"
  }
 },
 "nbformat": 4,
 "nbformat_minor": 5
}
