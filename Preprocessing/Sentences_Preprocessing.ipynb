{
 "cells": [
  {
   "cell_type": "code",
   "execution_count": 34,
   "id": "4939fd42",
   "metadata": {},
   "outputs": [],
   "source": [
    "import spacy\n",
    "import pandas as pd\n",
    "import re\n",
    "import os\n",
    "\n",
    "os.chdir(\"C:/Users/fib0/Desktop\")\n",
    "nlp = spacy.load('en_core_web_lg')"
   ]
  },
  {
   "cell_type": "code",
   "execution_count": 35,
   "id": "63bfe8df",
   "metadata": {},
   "outputs": [],
   "source": [
    "#Function to remove stopwords\n",
    "def stop_word_remover(text):\n",
    "    doc = nlp(str(text))\n",
    "    text = ' '.join([token.text for token in doc if token.is_stop == False])\n",
    "    return text\n",
    "\n",
    "#Function to lemmatize\n",
    "def lemmatizer(text):\n",
    "    doc = nlp(str(text))\n",
    "    text = ' '.join([token.lemma_ if token.lemma_ != '-PRON-' else token.text for token in doc])\n",
    "    return text"
   ]
  },
  {
   "cell_type": "code",
   "execution_count": 36,
   "id": "2a6e4dff",
   "metadata": {},
   "outputs": [],
   "source": [
    "# Loading the dataset\n",
    "data = pd.read_csv(\"job_descriptions_dataset.csv\")\n",
    "\n",
    "# Excluding the scam advertisements\n",
    "data = data[data.fraudulent == 'f']\n",
    "data.reset_index(inplace = True)\n",
    "\n",
    "# Concatinate \"description\" and \"requirements\" columns to create \"job_advertisements\"\n",
    "job_advertisements = data[\"description\"] + \" \" + data[\"requirements\"]\n",
    "\n",
    "# Create a new DataFrame, containing only Job Advertisements\n",
    "#data = pd.DataFrame(data = job_advertisements, columns = [\"Description\"])"
   ]
  },
  {
   "cell_type": "code",
   "execution_count": 22,
   "id": "c5fd1bca",
   "metadata": {},
   "outputs": [],
   "source": [
    "# Text lowercase\n",
    "data[\"Description\"] = data[\"Description\"].str.lower()\n",
    "\n",
    "# Handling newlines\n",
    "data[\"Description\"] = data[\"Description\"].str.replace(\"\\n\\n\", ' ')\n",
    "data[\"Description\"] = data[\"Description\"].str.replace(\"\\n\", '. ')\n",
    "\n",
    "# Removing leading and ending whitespaces\n",
    "data[\"Description\"] = data[\"Description\"].str.strip()"
   ]
  },
  {
   "cell_type": "code",
   "execution_count": 5,
   "id": "c855891a",
   "metadata": {},
   "outputs": [],
   "source": [
    "# Create list of sentences\n",
    "sentences_list = []\n",
    "\n",
    "for i in range(len(data.Description)):\n",
    "    try:\n",
    "        sentences = list(nlp(data.Description[i]).sents)\n",
    "        sentences_list = sentences_list + sentences\n",
    "    except:\n",
    "        pass"
   ]
  },
  {
   "cell_type": "code",
   "execution_count": 6,
   "id": "482bb276",
   "metadata": {},
   "outputs": [],
   "source": [
    "for i in range(len(sentences_list)):\n",
    "    \n",
    "    sentences_list[i] = str(sentences_list[i])\n",
    "    \n",
    "    # Removing special characters\n",
    "    sentences_list[i] = re.sub('[^A-Za-z0-9]+', ' ', sentences_list[i])\n",
    "    # sentences_list[i] = re.sub(r\"\"\"[/,-;@#&:()!?]+ \\ * \"\"\", \" \", sentences_list[i], flags=re.VERBOSE)\n",
    "    \n",
    "    # Replacing multiple spaces with a single space\n",
    "    sentences_list[i] = re.sub(' +', ' ', sentences_list[i])\n",
    "    \n",
    "    # Removing leading and ending whitespaces\n",
    "    sentences_list[i] = sentences_list[i].strip()   \n",
    "\n",
    "# Removing empty sentences from the list\n",
    "sentences_list = [sentence for sentence in sentences_list if sentence != '']"
   ]
  },
  {
   "cell_type": "code",
   "execution_count": 7,
   "id": "be828fc4",
   "metadata": {},
   "outputs": [],
   "source": [
    "sentences = pd.DataFrame(data = sentences_list, columns = [\"sentence\"] )"
   ]
  },
  {
   "cell_type": "code",
   "execution_count": 8,
   "id": "56ba78f9",
   "metadata": {},
   "outputs": [],
   "source": [
    "sentences[\"lemmatized\"] = sentences[\"sentence\"].apply(lemmatizer)    "
   ]
  },
  {
   "cell_type": "code",
   "execution_count": 9,
   "id": "e75020de",
   "metadata": {},
   "outputs": [],
   "source": [
    "sentences[\"lemmatized_without_stopwords\"] = sentences[\"lemmatized\"].apply(stop_word_remover)"
   ]
  },
  {
   "cell_type": "code",
   "execution_count": 10,
   "id": "59529896",
   "metadata": {},
   "outputs": [],
   "source": [
    "sentences.to_csv('sentences_preprocessed.csv', index = False)"
   ]
  }
 ],
 "metadata": {
  "kernelspec": {
   "display_name": "Python 3",
   "language": "python",
   "name": "python3"
  },
  "language_info": {
   "codemirror_mode": {
    "name": "ipython",
    "version": 3
   },
   "file_extension": ".py",
   "mimetype": "text/x-python",
   "name": "python",
   "nbconvert_exporter": "python",
   "pygments_lexer": "ipython3",
   "version": "3.8.8"
  }
 },
 "nbformat": 4,
 "nbformat_minor": 5
}
