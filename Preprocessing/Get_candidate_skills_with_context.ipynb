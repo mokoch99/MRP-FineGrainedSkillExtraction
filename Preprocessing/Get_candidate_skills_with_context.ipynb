{
 "cells": [
  {
   "cell_type": "code",
   "execution_count": 1,
   "id": "ede265a5",
   "metadata": {},
   "outputs": [],
   "source": [
    "import pandas as pd\n",
    "import numpy as np\n",
    "import flashtext\n",
    "import spacy\n",
    "from spacy.matcher import PhraseMatcher\n",
    "from flashtext import KeywordProcessor\n",
    "\n",
    "nlp = spacy.load(\"en_core_web_lg\")"
   ]
  },
  {
   "cell_type": "code",
   "execution_count": 2,
   "id": "9a08d414",
   "metadata": {},
   "outputs": [],
   "source": [
    "sentences = pd.read_csv(\"sentences_preprocessed.csv\")\n",
    "skills    = pd.read_csv(\"skills_preprocessed.csv\")"
   ]
  },
  {
   "cell_type": "code",
   "execution_count": 4,
   "id": "9572ba2d",
   "metadata": {},
   "outputs": [],
   "source": [
    "skills_list    = skills[\"skills_lemmatized\"].tolist()\n",
    "sentences_list = sentences[\"lemmatized_without_stopwords\"].tolist()\n",
    "raw_sentences_list = sentences[\"sentence\"].tolist()"
   ]
  },
  {
   "cell_type": "code",
   "execution_count": 5,
   "id": "359c0b14",
   "metadata": {},
   "outputs": [],
   "source": [
    "def extract_sentences(raw_sentences_list, sentences_list, skills_list, context_horizon):\n",
    "    \n",
    "    keywordprocessor = KeywordProcessor()\n",
    "    keywordprocessor.add_keywords_from_list(skills_list)\n",
    "    \n",
    "    origin_sentence_list = []\n",
    "    left_context_list    = []\n",
    "    right_context_list   = []\n",
    "    candidate_skill_list = []\n",
    "    \n",
    "    n_sentence = 0 \n",
    "    \n",
    "    for sent in sentences_list:\n",
    "        \n",
    "        origin_sentence = raw_sentences_list[n_sentence]\n",
    "        n_sentence      = n_sentence + 1\n",
    "        \n",
    "        try:\n",
    "            \n",
    "            extracted_keywords = keywordprocessor.extract_keywords(sent)\n",
    "            text = nlp(sent)\n",
    "            keywords = [nlp(word) for word in extracted_keywords]\n",
    "            matcher = PhraseMatcher(nlp.vocab)\n",
    "            matcher.add(\"Keyword_Matcher\", None, *keywords)\n",
    "            found_matches = matcher(text)\n",
    "\n",
    "            for keyword_match in found_matches:\n",
    "\n",
    "                start = keyword_match[1]\n",
    "                end   = keyword_match[2]\n",
    "                left_context  = text[max(start - context_horizon, 0) : start]\n",
    "                right_context = text[end : min(end + context_horizon, len(text))]\n",
    "                candidate_skill = text[start : end]\n",
    "\n",
    "                origin_sentence_list.append(origin_sentence)\n",
    "                left_context_list.append(left_context)\n",
    "                right_context_list.append(right_context)\n",
    "                candidate_skill_list.append(candidate_skill)\n",
    "                \n",
    "                \n",
    "        except:\n",
    "            \n",
    "            pass\n",
    "            \n",
    "    return origin_sentence_list, left_context_list, right_context_list, candidate_skill_list\n",
    "\n",
    "\n",
    "def tuple_to_string(tup):\n",
    "    \n",
    "    tup = str(tup)\n",
    "    return \"\".join(tup)"
   ]
  },
  {
   "cell_type": "code",
   "execution_count": 6,
   "id": "4016b272",
   "metadata": {},
   "outputs": [],
   "source": [
    "context_horizon = 5\n",
    "origin_sentence, left_context, right_context, candidate_skills = extract_sentences(raw_sentences_list, sentences_list, skills_list, context_horizon)"
   ]
  },
  {
   "cell_type": "code",
   "execution_count": 7,
   "id": "d226d20b",
   "metadata": {},
   "outputs": [],
   "source": [
    "skills_with_context = pd.DataFrame(list(zip(origin_sentence, left_context, candidate_skills, right_context)), \n",
    "                                   columns = [\"origin_sentence\", \"left_context\", \"candidate_skill\", \"right_context\"])"
   ]
  },
  {
   "cell_type": "code",
   "execution_count": 8,
   "id": "b5d04503",
   "metadata": {},
   "outputs": [],
   "source": [
    "skills_with_context[\"left_context\"] = skills_with_context[\"left_context\"].apply(tuple_to_string)\n",
    "skills_with_context[\"right_context\"] = skills_with_context[\"right_context\"].apply(tuple_to_string)\n",
    "skills_with_context[\"candidate_skill\"] = skills_with_context[\"candidate_skill\"].apply(tuple_to_string)"
   ]
  },
  {
   "cell_type": "code",
   "execution_count": 9,
   "id": "5ae51f20",
   "metadata": {},
   "outputs": [],
   "source": [
    "skills_with_context.to_csv(\"skills_with_context.csv\", index = False)"
   ]
  },
  {
   "cell_type": "code",
   "execution_count": 35,
   "id": "3ca4687f",
   "metadata": {},
   "outputs": [
    {
     "data": {
      "text/plain": [
       "origin_sentence    management\n",
       "left_context                 \n",
       "candidate_skill    management\n",
       "right_context                \n",
       "Name: 2504, dtype: object"
      ]
     },
     "execution_count": 35,
     "metadata": {},
     "output_type": "execute_result"
    }
   ],
   "source": [
    "skills_with_context.iloc[2504]"
   ]
  }
 ],
 "metadata": {
  "kernelspec": {
   "display_name": "Python 3",
   "language": "python",
   "name": "python3"
  },
  "language_info": {
   "codemirror_mode": {
    "name": "ipython",
    "version": 3
   },
   "file_extension": ".py",
   "mimetype": "text/x-python",
   "name": "python",
   "nbconvert_exporter": "python",
   "pygments_lexer": "ipython3",
   "version": "3.8.8"
  }
 },
 "nbformat": 4,
 "nbformat_minor": 5
}
